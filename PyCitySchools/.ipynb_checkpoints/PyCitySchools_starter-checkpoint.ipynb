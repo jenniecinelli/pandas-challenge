{
 "cells": [
  {
   "cell_type": "markdown",
   "metadata": {},
   "source": [
    "### Note\n",
    "* Instructions have been included for each segment. You do not have to follow them exactly, but they are included to help you think through the steps."
   ]
  },
  {
   "cell_type": "code",
   "execution_count": 303,
   "metadata": {
    "scrolled": true
   },
   "outputs": [
    {
     "data": {
      "text/html": [
       "<div>\n",
       "<style scoped>\n",
       "    .dataframe tbody tr th:only-of-type {\n",
       "        vertical-align: middle;\n",
       "    }\n",
       "\n",
       "    .dataframe tbody tr th {\n",
       "        vertical-align: top;\n",
       "    }\n",
       "\n",
       "    .dataframe thead th {\n",
       "        text-align: right;\n",
       "    }\n",
       "</style>\n",
       "<table border=\"1\" class=\"dataframe\">\n",
       "  <thead>\n",
       "    <tr style=\"text-align: right;\">\n",
       "      <th></th>\n",
       "      <th>Student ID</th>\n",
       "      <th>student_name</th>\n",
       "      <th>gender</th>\n",
       "      <th>grade</th>\n",
       "      <th>school_name</th>\n",
       "      <th>reading_score</th>\n",
       "      <th>math_score</th>\n",
       "      <th>School ID</th>\n",
       "      <th>type</th>\n",
       "      <th>size</th>\n",
       "      <th>budget</th>\n",
       "    </tr>\n",
       "  </thead>\n",
       "  <tbody>\n",
       "    <tr>\n",
       "      <th>0</th>\n",
       "      <td>0</td>\n",
       "      <td>Paul Bradley</td>\n",
       "      <td>M</td>\n",
       "      <td>9th</td>\n",
       "      <td>Huang High School</td>\n",
       "      <td>66</td>\n",
       "      <td>79</td>\n",
       "      <td>0</td>\n",
       "      <td>District</td>\n",
       "      <td>2917</td>\n",
       "      <td>1910635</td>\n",
       "    </tr>\n",
       "    <tr>\n",
       "      <th>1</th>\n",
       "      <td>1</td>\n",
       "      <td>Victor Smith</td>\n",
       "      <td>M</td>\n",
       "      <td>12th</td>\n",
       "      <td>Huang High School</td>\n",
       "      <td>94</td>\n",
       "      <td>61</td>\n",
       "      <td>0</td>\n",
       "      <td>District</td>\n",
       "      <td>2917</td>\n",
       "      <td>1910635</td>\n",
       "    </tr>\n",
       "    <tr>\n",
       "      <th>2</th>\n",
       "      <td>2</td>\n",
       "      <td>Kevin Rodriguez</td>\n",
       "      <td>M</td>\n",
       "      <td>12th</td>\n",
       "      <td>Huang High School</td>\n",
       "      <td>90</td>\n",
       "      <td>60</td>\n",
       "      <td>0</td>\n",
       "      <td>District</td>\n",
       "      <td>2917</td>\n",
       "      <td>1910635</td>\n",
       "    </tr>\n",
       "    <tr>\n",
       "      <th>3</th>\n",
       "      <td>3</td>\n",
       "      <td>Dr. Richard Scott</td>\n",
       "      <td>M</td>\n",
       "      <td>12th</td>\n",
       "      <td>Huang High School</td>\n",
       "      <td>67</td>\n",
       "      <td>58</td>\n",
       "      <td>0</td>\n",
       "      <td>District</td>\n",
       "      <td>2917</td>\n",
       "      <td>1910635</td>\n",
       "    </tr>\n",
       "    <tr>\n",
       "      <th>4</th>\n",
       "      <td>4</td>\n",
       "      <td>Bonnie Ray</td>\n",
       "      <td>F</td>\n",
       "      <td>9th</td>\n",
       "      <td>Huang High School</td>\n",
       "      <td>97</td>\n",
       "      <td>84</td>\n",
       "      <td>0</td>\n",
       "      <td>District</td>\n",
       "      <td>2917</td>\n",
       "      <td>1910635</td>\n",
       "    </tr>\n",
       "  </tbody>\n",
       "</table>\n",
       "</div>"
      ],
      "text/plain": [
       "   Student ID       student_name gender grade        school_name  \\\n",
       "0           0       Paul Bradley      M   9th  Huang High School   \n",
       "1           1       Victor Smith      M  12th  Huang High School   \n",
       "2           2    Kevin Rodriguez      M  12th  Huang High School   \n",
       "3           3  Dr. Richard Scott      M  12th  Huang High School   \n",
       "4           4         Bonnie Ray      F   9th  Huang High School   \n",
       "\n",
       "   reading_score  math_score  School ID      type  size   budget  \n",
       "0             66          79          0  District  2917  1910635  \n",
       "1             94          61          0  District  2917  1910635  \n",
       "2             90          60          0  District  2917  1910635  \n",
       "3             67          58          0  District  2917  1910635  \n",
       "4             97          84          0  District  2917  1910635  "
      ]
     },
     "execution_count": 303,
     "metadata": {},
     "output_type": "execute_result"
    }
   ],
   "source": [
    "# Dependencies and Setup\n",
    "import pandas as pd\n",
    "\n",
    "# File to Load (Remember to Change These)\n",
    "school_data_to_load = \"Resources/schools_complete.csv\"\n",
    "student_data_to_load = \"Resources/students_complete.csv\"\n",
    "\n",
    "# Read School and Student Data File and store into Pandas DataFrames\n",
    "school_data = pd.read_csv(school_data_to_load)\n",
    "student_data = pd.read_csv(student_data_to_load)\n",
    "\n",
    "# Combine the data into a single dataset.  \n",
    "school_data_complete = pd.merge(student_data, school_data, how=\"left\", on=[\"school_name\", \"school_name\"])\n",
    "school_data_complete.head(5)"
   ]
  },
  {
   "cell_type": "markdown",
   "metadata": {},
   "source": [
    "## District Summary\n",
    "\n",
    "* Calculate the total number of schools\n",
    "\n",
    "* Calculate the total number of students\n",
    "\n",
    "* Calculate the total budget\n",
    "\n",
    "* Calculate the average math score \n",
    "\n",
    "* Calculate the average reading score\n",
    "\n",
    "* Calculate the percentage of students with a passing math score (70 or greater)\n",
    "\n",
    "* Calculate the percentage of students with a passing reading score (70 or greater)\n",
    "\n",
    "* Calculate the percentage of students who passed math **and** reading (% Overall Passing)\n",
    "\n",
    "* Create a dataframe to hold the above results\n",
    "\n",
    "* Optional: give the displayed data cleaner formatting"
   ]
  },
  {
   "cell_type": "code",
   "execution_count": 304,
   "metadata": {},
   "outputs": [
    {
     "data": {
      "text/html": [
       "<style  type=\"text/css\" >\n",
       "</style><table id=\"T_6911310c_9ca5_11eb_9152_d0817ac67bd2\" ><thead>    <tr>        <th class=\"blank level0\" ></th>        <th class=\"col_heading level0 col0\" >Total Schools</th>        <th class=\"col_heading level0 col1\" >Total Students</th>        <th class=\"col_heading level0 col2\" >Total Budget</th>        <th class=\"col_heading level0 col3\" >Average Math Score</th>        <th class=\"col_heading level0 col4\" >Average Reading Score</th>        <th class=\"col_heading level0 col5\" >% Passing Math</th>        <th class=\"col_heading level0 col6\" >% Passing Reading</th>        <th class=\"col_heading level0 col7\" >% Overall Passing</th>    </tr></thead><tbody>\n",
       "                <tr>\n",
       "                        <th id=\"T_6911310c_9ca5_11eb_9152_d0817ac67bd2level0_row0\" class=\"row_heading level0 row0\" >0</th>\n",
       "                        <td id=\"T_6911310c_9ca5_11eb_9152_d0817ac67bd2row0_col0\" class=\"data row0 col0\" >15</td>\n",
       "                        <td id=\"T_6911310c_9ca5_11eb_9152_d0817ac67bd2row0_col1\" class=\"data row0 col1\" >39,170</td>\n",
       "                        <td id=\"T_6911310c_9ca5_11eb_9152_d0817ac67bd2row0_col2\" class=\"data row0 col2\" >$24,649,428.00</td>\n",
       "                        <td id=\"T_6911310c_9ca5_11eb_9152_d0817ac67bd2row0_col3\" class=\"data row0 col3\" >79.0%</td>\n",
       "                        <td id=\"T_6911310c_9ca5_11eb_9152_d0817ac67bd2row0_col4\" class=\"data row0 col4\" >81.9%</td>\n",
       "                        <td id=\"T_6911310c_9ca5_11eb_9152_d0817ac67bd2row0_col5\" class=\"data row0 col5\" >75.0%</td>\n",
       "                        <td id=\"T_6911310c_9ca5_11eb_9152_d0817ac67bd2row0_col6\" class=\"data row0 col6\" >85.8%</td>\n",
       "                        <td id=\"T_6911310c_9ca5_11eb_9152_d0817ac67bd2row0_col7\" class=\"data row0 col7\" >65.2%</td>\n",
       "            </tr>\n",
       "    </tbody></table>"
      ],
      "text/plain": [
       "<pandas.io.formats.style.Styler at 0x7ff8ca772730>"
      ]
     },
     "execution_count": 304,
     "metadata": {},
     "output_type": "execute_result"
    }
   ],
   "source": [
    "#total number of schools\n",
    "total_schools = len(school_data_complete[\"school_name\"].unique())\n",
    "\n",
    "#total number of students\n",
    "total_students = school_data_complete[\"student_name\"].count()\n",
    "\n",
    "#total budget\n",
    "total_budget = school_data[\"budget\"].sum()\n",
    "\n",
    "#average math score\n",
    "avg_math = school_data_complete[\"math_score\"].mean()\n",
    "\n",
    "#average reading score\n",
    "avg_read = school_data_complete[\"reading_score\"].mean()\n",
    "\n",
    "#percentage passing math\n",
    "math_pass = school_data_complete.loc[school_data_complete['math_score'] >= 70]['math_score'].count()\n",
    "perc_math_pass = math_pass/total_students * 100\n",
    "\n",
    "#percentage passing reading\n",
    "read_pass = school_data_complete.loc[school_data_complete['reading_score'] >= 70]['reading_score'].count()\n",
    "perc_read_pass = read_pass/total_students * 100\n",
    "\n",
    "#overall_pass \n",
    "overall_pass = school_data_complete[(school_data_complete['math_score'] >= 70) & (school_data_complete['reading_score'] >= 70)]['student_name'].count()/total_students * 100\n",
    "\n",
    "#summary table\n",
    "district_summary_df = pd.DataFrame({\"Total Schools\": [total_schools],\n",
    "                                   \"Total Students\": total_students,\n",
    "                                    \"Total Budget\": total_budget,\n",
    "                                    \"Average Math Score\": avg_math,\n",
    "                                    \"Average Reading Score\": avg_read,\n",
    "                                    \"% Passing Math\": perc_math_pass,\n",
    "                                    \"% Passing Reading\": perc_read_pass,\n",
    "                                    \"% Overall Passing\": overall_pass\n",
    "                                   })\n",
    "district_summary_df\n",
    "\n",
    "#formatting\n",
    "format_summary = {'Total Students':'{:,.0f}', \n",
    "                  'Total Budget': '${:,.2f}',\n",
    "                 'Average Math Score': '{:,.1f}%',\n",
    "                  'Average Reading Score': '{:,.1f}%',\n",
    "                  \"% Passing Math\": '{:,.1f}%',\n",
    "                  \"% Passing Reading\": '{:,.1f}%',\n",
    "                  \"% Overall Passing\": '{:,.1f}%'\n",
    "                 }\n",
    "district_summary_df.style.format(format_summary)"
   ]
  },
  {
   "cell_type": "markdown",
   "metadata": {},
   "source": [
    "## School Summary"
   ]
  },
  {
   "cell_type": "markdown",
   "metadata": {},
   "source": [
    "* Create an overview table that summarizes key metrics about each school, including:\n",
    "  * School Name\n",
    "  * School Type\n",
    "  * Total Students\n",
    "  * Total School Budget\n",
    "  * Per Student Budget\n",
    "  * Average Math Score\n",
    "  * Average Reading Score\n",
    "  * % Passing Math\n",
    "  * % Passing Reading\n",
    "  * % Overall Passing (The percentage of students that passed math **and** reading.)\n",
    "  \n",
    "* Create a dataframe to hold the above results"
   ]
  },
  {
   "cell_type": "code",
   "execution_count": 329,
   "metadata": {
    "scrolled": false
   },
   "outputs": [
    {
     "data": {
      "text/html": [
       "<style  type=\"text/css\" >\n",
       "</style><table id=\"T_831ed666_9ca6_11eb_9152_d0817ac67bd2\" ><thead>    <tr>        <th class=\"blank level0\" ></th>        <th class=\"col_heading level0 col0\" >Total Students</th>        <th class=\"col_heading level0 col1\" >Total School Budget</th>        <th class=\"col_heading level0 col2\" >Per Student Budget</th>        <th class=\"col_heading level0 col3\" >Average Math Score</th>        <th class=\"col_heading level0 col4\" >Average Reading Score</th>        <th class=\"col_heading level0 col5\" >% Passing Math</th>        <th class=\"col_heading level0 col6\" >% Passing Reading</th>        <th class=\"col_heading level0 col7\" >% Overall Passing</th>    </tr>    <tr>        <th class=\"index_name level0\" >school_name</th>        <th class=\"blank\" ></th>        <th class=\"blank\" ></th>        <th class=\"blank\" ></th>        <th class=\"blank\" ></th>        <th class=\"blank\" ></th>        <th class=\"blank\" ></th>        <th class=\"blank\" ></th>        <th class=\"blank\" ></th>    </tr></thead><tbody>\n",
       "                <tr>\n",
       "                        <th id=\"T_831ed666_9ca6_11eb_9152_d0817ac67bd2level0_row0\" class=\"row_heading level0 row0\" >Bailey High School</th>\n",
       "                        <td id=\"T_831ed666_9ca6_11eb_9152_d0817ac67bd2row0_col0\" class=\"data row0 col0\" >4,976</td>\n",
       "                        <td id=\"T_831ed666_9ca6_11eb_9152_d0817ac67bd2row0_col1\" class=\"data row0 col1\" >$3,124,928.00</td>\n",
       "                        <td id=\"T_831ed666_9ca6_11eb_9152_d0817ac67bd2row0_col2\" class=\"data row0 col2\" >$628.00</td>\n",
       "                        <td id=\"T_831ed666_9ca6_11eb_9152_d0817ac67bd2row0_col3\" class=\"data row0 col3\" >77.0%</td>\n",
       "                        <td id=\"T_831ed666_9ca6_11eb_9152_d0817ac67bd2row0_col4\" class=\"data row0 col4\" >81.0%</td>\n",
       "                        <td id=\"T_831ed666_9ca6_11eb_9152_d0817ac67bd2row0_col5\" class=\"data row0 col5\" >66.7%</td>\n",
       "                        <td id=\"T_831ed666_9ca6_11eb_9152_d0817ac67bd2row0_col6\" class=\"data row0 col6\" >81.9%</td>\n",
       "                        <td id=\"T_831ed666_9ca6_11eb_9152_d0817ac67bd2row0_col7\" class=\"data row0 col7\" >54.6%</td>\n",
       "            </tr>\n",
       "            <tr>\n",
       "                        <th id=\"T_831ed666_9ca6_11eb_9152_d0817ac67bd2level0_row1\" class=\"row_heading level0 row1\" >Cabrera High School</th>\n",
       "                        <td id=\"T_831ed666_9ca6_11eb_9152_d0817ac67bd2row1_col0\" class=\"data row1 col0\" >1,858</td>\n",
       "                        <td id=\"T_831ed666_9ca6_11eb_9152_d0817ac67bd2row1_col1\" class=\"data row1 col1\" >$1,081,356.00</td>\n",
       "                        <td id=\"T_831ed666_9ca6_11eb_9152_d0817ac67bd2row1_col2\" class=\"data row1 col2\" >$582.00</td>\n",
       "                        <td id=\"T_831ed666_9ca6_11eb_9152_d0817ac67bd2row1_col3\" class=\"data row1 col3\" >83.1%</td>\n",
       "                        <td id=\"T_831ed666_9ca6_11eb_9152_d0817ac67bd2row1_col4\" class=\"data row1 col4\" >84.0%</td>\n",
       "                        <td id=\"T_831ed666_9ca6_11eb_9152_d0817ac67bd2row1_col5\" class=\"data row1 col5\" >94.1%</td>\n",
       "                        <td id=\"T_831ed666_9ca6_11eb_9152_d0817ac67bd2row1_col6\" class=\"data row1 col6\" >97.0%</td>\n",
       "                        <td id=\"T_831ed666_9ca6_11eb_9152_d0817ac67bd2row1_col7\" class=\"data row1 col7\" >91.3%</td>\n",
       "            </tr>\n",
       "            <tr>\n",
       "                        <th id=\"T_831ed666_9ca6_11eb_9152_d0817ac67bd2level0_row2\" class=\"row_heading level0 row2\" >Figueroa High School</th>\n",
       "                        <td id=\"T_831ed666_9ca6_11eb_9152_d0817ac67bd2row2_col0\" class=\"data row2 col0\" >2,949</td>\n",
       "                        <td id=\"T_831ed666_9ca6_11eb_9152_d0817ac67bd2row2_col1\" class=\"data row2 col1\" >$1,884,411.00</td>\n",
       "                        <td id=\"T_831ed666_9ca6_11eb_9152_d0817ac67bd2row2_col2\" class=\"data row2 col2\" >$639.00</td>\n",
       "                        <td id=\"T_831ed666_9ca6_11eb_9152_d0817ac67bd2row2_col3\" class=\"data row2 col3\" >76.7%</td>\n",
       "                        <td id=\"T_831ed666_9ca6_11eb_9152_d0817ac67bd2row2_col4\" class=\"data row2 col4\" >81.2%</td>\n",
       "                        <td id=\"T_831ed666_9ca6_11eb_9152_d0817ac67bd2row2_col5\" class=\"data row2 col5\" >66.0%</td>\n",
       "                        <td id=\"T_831ed666_9ca6_11eb_9152_d0817ac67bd2row2_col6\" class=\"data row2 col6\" >80.7%</td>\n",
       "                        <td id=\"T_831ed666_9ca6_11eb_9152_d0817ac67bd2row2_col7\" class=\"data row2 col7\" >53.2%</td>\n",
       "            </tr>\n",
       "            <tr>\n",
       "                        <th id=\"T_831ed666_9ca6_11eb_9152_d0817ac67bd2level0_row3\" class=\"row_heading level0 row3\" >Ford High School</th>\n",
       "                        <td id=\"T_831ed666_9ca6_11eb_9152_d0817ac67bd2row3_col0\" class=\"data row3 col0\" >2,739</td>\n",
       "                        <td id=\"T_831ed666_9ca6_11eb_9152_d0817ac67bd2row3_col1\" class=\"data row3 col1\" >$1,763,916.00</td>\n",
       "                        <td id=\"T_831ed666_9ca6_11eb_9152_d0817ac67bd2row3_col2\" class=\"data row3 col2\" >$644.00</td>\n",
       "                        <td id=\"T_831ed666_9ca6_11eb_9152_d0817ac67bd2row3_col3\" class=\"data row3 col3\" >77.1%</td>\n",
       "                        <td id=\"T_831ed666_9ca6_11eb_9152_d0817ac67bd2row3_col4\" class=\"data row3 col4\" >80.7%</td>\n",
       "                        <td id=\"T_831ed666_9ca6_11eb_9152_d0817ac67bd2row3_col5\" class=\"data row3 col5\" >68.3%</td>\n",
       "                        <td id=\"T_831ed666_9ca6_11eb_9152_d0817ac67bd2row3_col6\" class=\"data row3 col6\" >79.3%</td>\n",
       "                        <td id=\"T_831ed666_9ca6_11eb_9152_d0817ac67bd2row3_col7\" class=\"data row3 col7\" >54.3%</td>\n",
       "            </tr>\n",
       "            <tr>\n",
       "                        <th id=\"T_831ed666_9ca6_11eb_9152_d0817ac67bd2level0_row4\" class=\"row_heading level0 row4\" >Griffin High School</th>\n",
       "                        <td id=\"T_831ed666_9ca6_11eb_9152_d0817ac67bd2row4_col0\" class=\"data row4 col0\" >1,468</td>\n",
       "                        <td id=\"T_831ed666_9ca6_11eb_9152_d0817ac67bd2row4_col1\" class=\"data row4 col1\" >$917,500.00</td>\n",
       "                        <td id=\"T_831ed666_9ca6_11eb_9152_d0817ac67bd2row4_col2\" class=\"data row4 col2\" >$625.00</td>\n",
       "                        <td id=\"T_831ed666_9ca6_11eb_9152_d0817ac67bd2row4_col3\" class=\"data row4 col3\" >83.4%</td>\n",
       "                        <td id=\"T_831ed666_9ca6_11eb_9152_d0817ac67bd2row4_col4\" class=\"data row4 col4\" >83.8%</td>\n",
       "                        <td id=\"T_831ed666_9ca6_11eb_9152_d0817ac67bd2row4_col5\" class=\"data row4 col5\" >93.4%</td>\n",
       "                        <td id=\"T_831ed666_9ca6_11eb_9152_d0817ac67bd2row4_col6\" class=\"data row4 col6\" >97.1%</td>\n",
       "                        <td id=\"T_831ed666_9ca6_11eb_9152_d0817ac67bd2row4_col7\" class=\"data row4 col7\" >90.6%</td>\n",
       "            </tr>\n",
       "            <tr>\n",
       "                        <th id=\"T_831ed666_9ca6_11eb_9152_d0817ac67bd2level0_row5\" class=\"row_heading level0 row5\" >Hernandez High School</th>\n",
       "                        <td id=\"T_831ed666_9ca6_11eb_9152_d0817ac67bd2row5_col0\" class=\"data row5 col0\" >4,635</td>\n",
       "                        <td id=\"T_831ed666_9ca6_11eb_9152_d0817ac67bd2row5_col1\" class=\"data row5 col1\" >$3,022,020.00</td>\n",
       "                        <td id=\"T_831ed666_9ca6_11eb_9152_d0817ac67bd2row5_col2\" class=\"data row5 col2\" >$652.00</td>\n",
       "                        <td id=\"T_831ed666_9ca6_11eb_9152_d0817ac67bd2row5_col3\" class=\"data row5 col3\" >77.3%</td>\n",
       "                        <td id=\"T_831ed666_9ca6_11eb_9152_d0817ac67bd2row5_col4\" class=\"data row5 col4\" >80.9%</td>\n",
       "                        <td id=\"T_831ed666_9ca6_11eb_9152_d0817ac67bd2row5_col5\" class=\"data row5 col5\" >66.8%</td>\n",
       "                        <td id=\"T_831ed666_9ca6_11eb_9152_d0817ac67bd2row5_col6\" class=\"data row5 col6\" >80.9%</td>\n",
       "                        <td id=\"T_831ed666_9ca6_11eb_9152_d0817ac67bd2row5_col7\" class=\"data row5 col7\" >53.5%</td>\n",
       "            </tr>\n",
       "            <tr>\n",
       "                        <th id=\"T_831ed666_9ca6_11eb_9152_d0817ac67bd2level0_row6\" class=\"row_heading level0 row6\" >Holden High School</th>\n",
       "                        <td id=\"T_831ed666_9ca6_11eb_9152_d0817ac67bd2row6_col0\" class=\"data row6 col0\" >427</td>\n",
       "                        <td id=\"T_831ed666_9ca6_11eb_9152_d0817ac67bd2row6_col1\" class=\"data row6 col1\" >$248,087.00</td>\n",
       "                        <td id=\"T_831ed666_9ca6_11eb_9152_d0817ac67bd2row6_col2\" class=\"data row6 col2\" >$581.00</td>\n",
       "                        <td id=\"T_831ed666_9ca6_11eb_9152_d0817ac67bd2row6_col3\" class=\"data row6 col3\" >83.8%</td>\n",
       "                        <td id=\"T_831ed666_9ca6_11eb_9152_d0817ac67bd2row6_col4\" class=\"data row6 col4\" >83.8%</td>\n",
       "                        <td id=\"T_831ed666_9ca6_11eb_9152_d0817ac67bd2row6_col5\" class=\"data row6 col5\" >92.5%</td>\n",
       "                        <td id=\"T_831ed666_9ca6_11eb_9152_d0817ac67bd2row6_col6\" class=\"data row6 col6\" >96.3%</td>\n",
       "                        <td id=\"T_831ed666_9ca6_11eb_9152_d0817ac67bd2row6_col7\" class=\"data row6 col7\" >89.2%</td>\n",
       "            </tr>\n",
       "            <tr>\n",
       "                        <th id=\"T_831ed666_9ca6_11eb_9152_d0817ac67bd2level0_row7\" class=\"row_heading level0 row7\" >Huang High School</th>\n",
       "                        <td id=\"T_831ed666_9ca6_11eb_9152_d0817ac67bd2row7_col0\" class=\"data row7 col0\" >2,917</td>\n",
       "                        <td id=\"T_831ed666_9ca6_11eb_9152_d0817ac67bd2row7_col1\" class=\"data row7 col1\" >$1,910,635.00</td>\n",
       "                        <td id=\"T_831ed666_9ca6_11eb_9152_d0817ac67bd2row7_col2\" class=\"data row7 col2\" >$655.00</td>\n",
       "                        <td id=\"T_831ed666_9ca6_11eb_9152_d0817ac67bd2row7_col3\" class=\"data row7 col3\" >76.6%</td>\n",
       "                        <td id=\"T_831ed666_9ca6_11eb_9152_d0817ac67bd2row7_col4\" class=\"data row7 col4\" >81.2%</td>\n",
       "                        <td id=\"T_831ed666_9ca6_11eb_9152_d0817ac67bd2row7_col5\" class=\"data row7 col5\" >65.7%</td>\n",
       "                        <td id=\"T_831ed666_9ca6_11eb_9152_d0817ac67bd2row7_col6\" class=\"data row7 col6\" >81.3%</td>\n",
       "                        <td id=\"T_831ed666_9ca6_11eb_9152_d0817ac67bd2row7_col7\" class=\"data row7 col7\" >53.5%</td>\n",
       "            </tr>\n",
       "            <tr>\n",
       "                        <th id=\"T_831ed666_9ca6_11eb_9152_d0817ac67bd2level0_row8\" class=\"row_heading level0 row8\" >Johnson High School</th>\n",
       "                        <td id=\"T_831ed666_9ca6_11eb_9152_d0817ac67bd2row8_col0\" class=\"data row8 col0\" >4,761</td>\n",
       "                        <td id=\"T_831ed666_9ca6_11eb_9152_d0817ac67bd2row8_col1\" class=\"data row8 col1\" >$3,094,650.00</td>\n",
       "                        <td id=\"T_831ed666_9ca6_11eb_9152_d0817ac67bd2row8_col2\" class=\"data row8 col2\" >$650.00</td>\n",
       "                        <td id=\"T_831ed666_9ca6_11eb_9152_d0817ac67bd2row8_col3\" class=\"data row8 col3\" >77.1%</td>\n",
       "                        <td id=\"T_831ed666_9ca6_11eb_9152_d0817ac67bd2row8_col4\" class=\"data row8 col4\" >81.0%</td>\n",
       "                        <td id=\"T_831ed666_9ca6_11eb_9152_d0817ac67bd2row8_col5\" class=\"data row8 col5\" >66.1%</td>\n",
       "                        <td id=\"T_831ed666_9ca6_11eb_9152_d0817ac67bd2row8_col6\" class=\"data row8 col6\" >81.2%</td>\n",
       "                        <td id=\"T_831ed666_9ca6_11eb_9152_d0817ac67bd2row8_col7\" class=\"data row8 col7\" >53.5%</td>\n",
       "            </tr>\n",
       "            <tr>\n",
       "                        <th id=\"T_831ed666_9ca6_11eb_9152_d0817ac67bd2level0_row9\" class=\"row_heading level0 row9\" >Pena High School</th>\n",
       "                        <td id=\"T_831ed666_9ca6_11eb_9152_d0817ac67bd2row9_col0\" class=\"data row9 col0\" >962</td>\n",
       "                        <td id=\"T_831ed666_9ca6_11eb_9152_d0817ac67bd2row9_col1\" class=\"data row9 col1\" >$585,858.00</td>\n",
       "                        <td id=\"T_831ed666_9ca6_11eb_9152_d0817ac67bd2row9_col2\" class=\"data row9 col2\" >$609.00</td>\n",
       "                        <td id=\"T_831ed666_9ca6_11eb_9152_d0817ac67bd2row9_col3\" class=\"data row9 col3\" >83.8%</td>\n",
       "                        <td id=\"T_831ed666_9ca6_11eb_9152_d0817ac67bd2row9_col4\" class=\"data row9 col4\" >84.0%</td>\n",
       "                        <td id=\"T_831ed666_9ca6_11eb_9152_d0817ac67bd2row9_col5\" class=\"data row9 col5\" >94.6%</td>\n",
       "                        <td id=\"T_831ed666_9ca6_11eb_9152_d0817ac67bd2row9_col6\" class=\"data row9 col6\" >95.9%</td>\n",
       "                        <td id=\"T_831ed666_9ca6_11eb_9152_d0817ac67bd2row9_col7\" class=\"data row9 col7\" >90.5%</td>\n",
       "            </tr>\n",
       "            <tr>\n",
       "                        <th id=\"T_831ed666_9ca6_11eb_9152_d0817ac67bd2level0_row10\" class=\"row_heading level0 row10\" >Rodriguez High School</th>\n",
       "                        <td id=\"T_831ed666_9ca6_11eb_9152_d0817ac67bd2row10_col0\" class=\"data row10 col0\" >3,999</td>\n",
       "                        <td id=\"T_831ed666_9ca6_11eb_9152_d0817ac67bd2row10_col1\" class=\"data row10 col1\" >$2,547,363.00</td>\n",
       "                        <td id=\"T_831ed666_9ca6_11eb_9152_d0817ac67bd2row10_col2\" class=\"data row10 col2\" >$637.00</td>\n",
       "                        <td id=\"T_831ed666_9ca6_11eb_9152_d0817ac67bd2row10_col3\" class=\"data row10 col3\" >76.8%</td>\n",
       "                        <td id=\"T_831ed666_9ca6_11eb_9152_d0817ac67bd2row10_col4\" class=\"data row10 col4\" >80.7%</td>\n",
       "                        <td id=\"T_831ed666_9ca6_11eb_9152_d0817ac67bd2row10_col5\" class=\"data row10 col5\" >66.4%</td>\n",
       "                        <td id=\"T_831ed666_9ca6_11eb_9152_d0817ac67bd2row10_col6\" class=\"data row10 col6\" >80.2%</td>\n",
       "                        <td id=\"T_831ed666_9ca6_11eb_9152_d0817ac67bd2row10_col7\" class=\"data row10 col7\" >53.0%</td>\n",
       "            </tr>\n",
       "            <tr>\n",
       "                        <th id=\"T_831ed666_9ca6_11eb_9152_d0817ac67bd2level0_row11\" class=\"row_heading level0 row11\" >Shelton High School</th>\n",
       "                        <td id=\"T_831ed666_9ca6_11eb_9152_d0817ac67bd2row11_col0\" class=\"data row11 col0\" >1,761</td>\n",
       "                        <td id=\"T_831ed666_9ca6_11eb_9152_d0817ac67bd2row11_col1\" class=\"data row11 col1\" >$1,056,600.00</td>\n",
       "                        <td id=\"T_831ed666_9ca6_11eb_9152_d0817ac67bd2row11_col2\" class=\"data row11 col2\" >$600.00</td>\n",
       "                        <td id=\"T_831ed666_9ca6_11eb_9152_d0817ac67bd2row11_col3\" class=\"data row11 col3\" >83.4%</td>\n",
       "                        <td id=\"T_831ed666_9ca6_11eb_9152_d0817ac67bd2row11_col4\" class=\"data row11 col4\" >83.7%</td>\n",
       "                        <td id=\"T_831ed666_9ca6_11eb_9152_d0817ac67bd2row11_col5\" class=\"data row11 col5\" >93.9%</td>\n",
       "                        <td id=\"T_831ed666_9ca6_11eb_9152_d0817ac67bd2row11_col6\" class=\"data row11 col6\" >95.9%</td>\n",
       "                        <td id=\"T_831ed666_9ca6_11eb_9152_d0817ac67bd2row11_col7\" class=\"data row11 col7\" >89.9%</td>\n",
       "            </tr>\n",
       "            <tr>\n",
       "                        <th id=\"T_831ed666_9ca6_11eb_9152_d0817ac67bd2level0_row12\" class=\"row_heading level0 row12\" >Thomas High School</th>\n",
       "                        <td id=\"T_831ed666_9ca6_11eb_9152_d0817ac67bd2row12_col0\" class=\"data row12 col0\" >1,635</td>\n",
       "                        <td id=\"T_831ed666_9ca6_11eb_9152_d0817ac67bd2row12_col1\" class=\"data row12 col1\" >$1,043,130.00</td>\n",
       "                        <td id=\"T_831ed666_9ca6_11eb_9152_d0817ac67bd2row12_col2\" class=\"data row12 col2\" >$638.00</td>\n",
       "                        <td id=\"T_831ed666_9ca6_11eb_9152_d0817ac67bd2row12_col3\" class=\"data row12 col3\" >83.4%</td>\n",
       "                        <td id=\"T_831ed666_9ca6_11eb_9152_d0817ac67bd2row12_col4\" class=\"data row12 col4\" >83.8%</td>\n",
       "                        <td id=\"T_831ed666_9ca6_11eb_9152_d0817ac67bd2row12_col5\" class=\"data row12 col5\" >93.3%</td>\n",
       "                        <td id=\"T_831ed666_9ca6_11eb_9152_d0817ac67bd2row12_col6\" class=\"data row12 col6\" >97.3%</td>\n",
       "                        <td id=\"T_831ed666_9ca6_11eb_9152_d0817ac67bd2row12_col7\" class=\"data row12 col7\" >90.9%</td>\n",
       "            </tr>\n",
       "            <tr>\n",
       "                        <th id=\"T_831ed666_9ca6_11eb_9152_d0817ac67bd2level0_row13\" class=\"row_heading level0 row13\" >Wilson High School</th>\n",
       "                        <td id=\"T_831ed666_9ca6_11eb_9152_d0817ac67bd2row13_col0\" class=\"data row13 col0\" >2,283</td>\n",
       "                        <td id=\"T_831ed666_9ca6_11eb_9152_d0817ac67bd2row13_col1\" class=\"data row13 col1\" >$1,319,574.00</td>\n",
       "                        <td id=\"T_831ed666_9ca6_11eb_9152_d0817ac67bd2row13_col2\" class=\"data row13 col2\" >$578.00</td>\n",
       "                        <td id=\"T_831ed666_9ca6_11eb_9152_d0817ac67bd2row13_col3\" class=\"data row13 col3\" >83.3%</td>\n",
       "                        <td id=\"T_831ed666_9ca6_11eb_9152_d0817ac67bd2row13_col4\" class=\"data row13 col4\" >84.0%</td>\n",
       "                        <td id=\"T_831ed666_9ca6_11eb_9152_d0817ac67bd2row13_col5\" class=\"data row13 col5\" >93.9%</td>\n",
       "                        <td id=\"T_831ed666_9ca6_11eb_9152_d0817ac67bd2row13_col6\" class=\"data row13 col6\" >96.5%</td>\n",
       "                        <td id=\"T_831ed666_9ca6_11eb_9152_d0817ac67bd2row13_col7\" class=\"data row13 col7\" >90.6%</td>\n",
       "            </tr>\n",
       "            <tr>\n",
       "                        <th id=\"T_831ed666_9ca6_11eb_9152_d0817ac67bd2level0_row14\" class=\"row_heading level0 row14\" >Wright High School</th>\n",
       "                        <td id=\"T_831ed666_9ca6_11eb_9152_d0817ac67bd2row14_col0\" class=\"data row14 col0\" >1,800</td>\n",
       "                        <td id=\"T_831ed666_9ca6_11eb_9152_d0817ac67bd2row14_col1\" class=\"data row14 col1\" >$1,049,400.00</td>\n",
       "                        <td id=\"T_831ed666_9ca6_11eb_9152_d0817ac67bd2row14_col2\" class=\"data row14 col2\" >$583.00</td>\n",
       "                        <td id=\"T_831ed666_9ca6_11eb_9152_d0817ac67bd2row14_col3\" class=\"data row14 col3\" >83.7%</td>\n",
       "                        <td id=\"T_831ed666_9ca6_11eb_9152_d0817ac67bd2row14_col4\" class=\"data row14 col4\" >84.0%</td>\n",
       "                        <td id=\"T_831ed666_9ca6_11eb_9152_d0817ac67bd2row14_col5\" class=\"data row14 col5\" >93.3%</td>\n",
       "                        <td id=\"T_831ed666_9ca6_11eb_9152_d0817ac67bd2row14_col6\" class=\"data row14 col6\" >96.6%</td>\n",
       "                        <td id=\"T_831ed666_9ca6_11eb_9152_d0817ac67bd2row14_col7\" class=\"data row14 col7\" >90.3%</td>\n",
       "            </tr>\n",
       "    </tbody></table>"
      ],
      "text/plain": [
       "<pandas.io.formats.style.Styler at 0x7ff8cc945460>"
      ]
     },
     "execution_count": 329,
     "metadata": {},
     "output_type": "execute_result"
    }
   ],
   "source": [
    "schoolsummary_df = school_data_complete.groupby('school_name')\n",
    "\n",
    "#school type\n",
    "#school_type = school_data_complete.loc[(school_data_complete[\"school_name\"]).value_counts()][\"type\"]\n",
    "\n",
    "#total students\n",
    "school_students = schoolsummary_df['student_name'].count()\n",
    "\n",
    "#total school budget\n",
    "school_budget = school_data_complete.groupby([\"school_name\"]).mean()[\"budget\"]\n",
    "\n",
    "#per student budget\n",
    "school_studentbudget = school_budget/school_students\n",
    "\n",
    "#average math score\n",
    "school_math = schoolsummary_df['math_score'].mean()\n",
    "\n",
    "#average reading score\n",
    "school_read = schoolsummary_df['reading_score'].mean()\n",
    "\n",
    "#% passing math\n",
    "school_pass_math = school_data_complete.loc[school_data_complete[\"math_score\"]>=70]\n",
    "school_passmath = school_pass_math[\"school_name\"].value_counts()\n",
    "percent_passmath = school_passmath/school_students* 100\n",
    "\n",
    "\n",
    "#% passing reading\n",
    "school_pass_read = school_data_complete.loc[school_data_complete[\"reading_score\"]>=70]\n",
    "school_passread = school_pass_read[\"school_name\"].value_counts()\n",
    "percent_passread = school_passread/school_students * 100\n",
    "\n",
    "\n",
    "#%overall passing\n",
    "school_overall = school_data_complete.loc[(school_data_complete[\"math_score\"]>=70) & (school_data_complete[\"reading_score\"]>=70)]['school_name'].value_counts()/school_students * 100\n",
    "\n",
    "\n",
    "#summary table\n",
    "schoolsummary_table_df = pd.DataFrame({#\"School Type\": school_type,\n",
    "                          \"Total Students\": school_students,\n",
    "                          \"Total School Budget\": school_budget,\n",
    "                          \"Per Student Budget\": school_studentbudget,\n",
    "                          \"Average Math Score\": school_math,\n",
    "                          \"Average Reading Score\": school_read,\n",
    "                          \"% Passing Math\": percent_passmath,\n",
    "                          \"% Passing Reading\": percent_passread,\n",
    "                          \"% Overall Passing\": school_overall\n",
    "                          })\n",
    "schoolsummary_table_df\n",
    "\n",
    "#formatting\n",
    "format_summary = {'Total Students':'{:,.0f}', \n",
    "                  'Total School Budget': '${:,.2f}',\n",
    "                  'Per Student Budget': '${:,.2f}',\n",
    "                  'Average Math Score': '{:,.1f}%',\n",
    "                  'Average Reading Score': '{:,.1f}%',\n",
    "                  '% Passing Math': '{:,.1f}%',\n",
    "                  '% Passing Reading': '{:,.1f}%',\n",
    "                  '% Overall Passing': '{:,.1f}%'\n",
    "                  }\n",
    "schoolsummary_table_df.style.format(format_summary)"
   ]
  },
  {
   "cell_type": "markdown",
   "metadata": {},
   "source": [
    "## Top Performing Schools (By % Overall Passing)"
   ]
  },
  {
   "cell_type": "markdown",
   "metadata": {},
   "source": [
    "* Sort and display the top five performing schools by % overall passing."
   ]
  },
  {
   "cell_type": "code",
   "execution_count": 330,
   "metadata": {
    "scrolled": true
   },
   "outputs": [
    {
     "data": {
      "text/html": [
       "<style  type=\"text/css\" >\n",
       "</style><table id=\"T_9e463ed4_9ca6_11eb_9152_d0817ac67bd2\" ><thead>    <tr>        <th class=\"blank level0\" ></th>        <th class=\"col_heading level0 col0\" >Total Students</th>        <th class=\"col_heading level0 col1\" >Total School Budget</th>        <th class=\"col_heading level0 col2\" >Per Student Budget</th>        <th class=\"col_heading level0 col3\" >Average Math Score</th>        <th class=\"col_heading level0 col4\" >Average Reading Score</th>        <th class=\"col_heading level0 col5\" >% Passing Math</th>        <th class=\"col_heading level0 col6\" >% Passing Reading</th>        <th class=\"col_heading level0 col7\" >% Overall Passing</th>    </tr>    <tr>        <th class=\"index_name level0\" >school_name</th>        <th class=\"blank\" ></th>        <th class=\"blank\" ></th>        <th class=\"blank\" ></th>        <th class=\"blank\" ></th>        <th class=\"blank\" ></th>        <th class=\"blank\" ></th>        <th class=\"blank\" ></th>        <th class=\"blank\" ></th>    </tr></thead><tbody>\n",
       "                <tr>\n",
       "                        <th id=\"T_9e463ed4_9ca6_11eb_9152_d0817ac67bd2level0_row0\" class=\"row_heading level0 row0\" >Cabrera High School</th>\n",
       "                        <td id=\"T_9e463ed4_9ca6_11eb_9152_d0817ac67bd2row0_col0\" class=\"data row0 col0\" >1,858</td>\n",
       "                        <td id=\"T_9e463ed4_9ca6_11eb_9152_d0817ac67bd2row0_col1\" class=\"data row0 col1\" >$1,081,356.00</td>\n",
       "                        <td id=\"T_9e463ed4_9ca6_11eb_9152_d0817ac67bd2row0_col2\" class=\"data row0 col2\" >$582.00</td>\n",
       "                        <td id=\"T_9e463ed4_9ca6_11eb_9152_d0817ac67bd2row0_col3\" class=\"data row0 col3\" >83.1%</td>\n",
       "                        <td id=\"T_9e463ed4_9ca6_11eb_9152_d0817ac67bd2row0_col4\" class=\"data row0 col4\" >84.0%</td>\n",
       "                        <td id=\"T_9e463ed4_9ca6_11eb_9152_d0817ac67bd2row0_col5\" class=\"data row0 col5\" >94.1%</td>\n",
       "                        <td id=\"T_9e463ed4_9ca6_11eb_9152_d0817ac67bd2row0_col6\" class=\"data row0 col6\" >97.0%</td>\n",
       "                        <td id=\"T_9e463ed4_9ca6_11eb_9152_d0817ac67bd2row0_col7\" class=\"data row0 col7\" >91.3%</td>\n",
       "            </tr>\n",
       "            <tr>\n",
       "                        <th id=\"T_9e463ed4_9ca6_11eb_9152_d0817ac67bd2level0_row1\" class=\"row_heading level0 row1\" >Thomas High School</th>\n",
       "                        <td id=\"T_9e463ed4_9ca6_11eb_9152_d0817ac67bd2row1_col0\" class=\"data row1 col0\" >1,635</td>\n",
       "                        <td id=\"T_9e463ed4_9ca6_11eb_9152_d0817ac67bd2row1_col1\" class=\"data row1 col1\" >$1,043,130.00</td>\n",
       "                        <td id=\"T_9e463ed4_9ca6_11eb_9152_d0817ac67bd2row1_col2\" class=\"data row1 col2\" >$638.00</td>\n",
       "                        <td id=\"T_9e463ed4_9ca6_11eb_9152_d0817ac67bd2row1_col3\" class=\"data row1 col3\" >83.4%</td>\n",
       "                        <td id=\"T_9e463ed4_9ca6_11eb_9152_d0817ac67bd2row1_col4\" class=\"data row1 col4\" >83.8%</td>\n",
       "                        <td id=\"T_9e463ed4_9ca6_11eb_9152_d0817ac67bd2row1_col5\" class=\"data row1 col5\" >93.3%</td>\n",
       "                        <td id=\"T_9e463ed4_9ca6_11eb_9152_d0817ac67bd2row1_col6\" class=\"data row1 col6\" >97.3%</td>\n",
       "                        <td id=\"T_9e463ed4_9ca6_11eb_9152_d0817ac67bd2row1_col7\" class=\"data row1 col7\" >90.9%</td>\n",
       "            </tr>\n",
       "            <tr>\n",
       "                        <th id=\"T_9e463ed4_9ca6_11eb_9152_d0817ac67bd2level0_row2\" class=\"row_heading level0 row2\" >Griffin High School</th>\n",
       "                        <td id=\"T_9e463ed4_9ca6_11eb_9152_d0817ac67bd2row2_col0\" class=\"data row2 col0\" >1,468</td>\n",
       "                        <td id=\"T_9e463ed4_9ca6_11eb_9152_d0817ac67bd2row2_col1\" class=\"data row2 col1\" >$917,500.00</td>\n",
       "                        <td id=\"T_9e463ed4_9ca6_11eb_9152_d0817ac67bd2row2_col2\" class=\"data row2 col2\" >$625.00</td>\n",
       "                        <td id=\"T_9e463ed4_9ca6_11eb_9152_d0817ac67bd2row2_col3\" class=\"data row2 col3\" >83.4%</td>\n",
       "                        <td id=\"T_9e463ed4_9ca6_11eb_9152_d0817ac67bd2row2_col4\" class=\"data row2 col4\" >83.8%</td>\n",
       "                        <td id=\"T_9e463ed4_9ca6_11eb_9152_d0817ac67bd2row2_col5\" class=\"data row2 col5\" >93.4%</td>\n",
       "                        <td id=\"T_9e463ed4_9ca6_11eb_9152_d0817ac67bd2row2_col6\" class=\"data row2 col6\" >97.1%</td>\n",
       "                        <td id=\"T_9e463ed4_9ca6_11eb_9152_d0817ac67bd2row2_col7\" class=\"data row2 col7\" >90.6%</td>\n",
       "            </tr>\n",
       "            <tr>\n",
       "                        <th id=\"T_9e463ed4_9ca6_11eb_9152_d0817ac67bd2level0_row3\" class=\"row_heading level0 row3\" >Wilson High School</th>\n",
       "                        <td id=\"T_9e463ed4_9ca6_11eb_9152_d0817ac67bd2row3_col0\" class=\"data row3 col0\" >2,283</td>\n",
       "                        <td id=\"T_9e463ed4_9ca6_11eb_9152_d0817ac67bd2row3_col1\" class=\"data row3 col1\" >$1,319,574.00</td>\n",
       "                        <td id=\"T_9e463ed4_9ca6_11eb_9152_d0817ac67bd2row3_col2\" class=\"data row3 col2\" >$578.00</td>\n",
       "                        <td id=\"T_9e463ed4_9ca6_11eb_9152_d0817ac67bd2row3_col3\" class=\"data row3 col3\" >83.3%</td>\n",
       "                        <td id=\"T_9e463ed4_9ca6_11eb_9152_d0817ac67bd2row3_col4\" class=\"data row3 col4\" >84.0%</td>\n",
       "                        <td id=\"T_9e463ed4_9ca6_11eb_9152_d0817ac67bd2row3_col5\" class=\"data row3 col5\" >93.9%</td>\n",
       "                        <td id=\"T_9e463ed4_9ca6_11eb_9152_d0817ac67bd2row3_col6\" class=\"data row3 col6\" >96.5%</td>\n",
       "                        <td id=\"T_9e463ed4_9ca6_11eb_9152_d0817ac67bd2row3_col7\" class=\"data row3 col7\" >90.6%</td>\n",
       "            </tr>\n",
       "            <tr>\n",
       "                        <th id=\"T_9e463ed4_9ca6_11eb_9152_d0817ac67bd2level0_row4\" class=\"row_heading level0 row4\" >Pena High School</th>\n",
       "                        <td id=\"T_9e463ed4_9ca6_11eb_9152_d0817ac67bd2row4_col0\" class=\"data row4 col0\" >962</td>\n",
       "                        <td id=\"T_9e463ed4_9ca6_11eb_9152_d0817ac67bd2row4_col1\" class=\"data row4 col1\" >$585,858.00</td>\n",
       "                        <td id=\"T_9e463ed4_9ca6_11eb_9152_d0817ac67bd2row4_col2\" class=\"data row4 col2\" >$609.00</td>\n",
       "                        <td id=\"T_9e463ed4_9ca6_11eb_9152_d0817ac67bd2row4_col3\" class=\"data row4 col3\" >83.8%</td>\n",
       "                        <td id=\"T_9e463ed4_9ca6_11eb_9152_d0817ac67bd2row4_col4\" class=\"data row4 col4\" >84.0%</td>\n",
       "                        <td id=\"T_9e463ed4_9ca6_11eb_9152_d0817ac67bd2row4_col5\" class=\"data row4 col5\" >94.6%</td>\n",
       "                        <td id=\"T_9e463ed4_9ca6_11eb_9152_d0817ac67bd2row4_col6\" class=\"data row4 col6\" >95.9%</td>\n",
       "                        <td id=\"T_9e463ed4_9ca6_11eb_9152_d0817ac67bd2row4_col7\" class=\"data row4 col7\" >90.5%</td>\n",
       "            </tr>\n",
       "    </tbody></table>"
      ],
      "text/plain": [
       "<pandas.io.formats.style.Styler at 0x7ff8cc2e9cd0>"
      ]
     },
     "execution_count": 330,
     "metadata": {},
     "output_type": "execute_result"
    }
   ],
   "source": [
    "topschools_df = schoolsummary_table_df.sort_values(\"% Overall Passing\", ascending=False)\n",
    "\n",
    "topschools_df.head(5).style.format(format_summary)"
   ]
  },
  {
   "cell_type": "markdown",
   "metadata": {},
   "source": [
    "## Bottom Performing Schools (By % Overall Passing)"
   ]
  },
  {
   "cell_type": "markdown",
   "metadata": {},
   "source": [
    "* Sort and display the five worst-performing schools by % overall passing."
   ]
  },
  {
   "cell_type": "code",
   "execution_count": 331,
   "metadata": {},
   "outputs": [
    {
     "data": {
      "text/html": [
       "<style  type=\"text/css\" >\n",
       "</style><table id=\"T_9ef568e6_9ca6_11eb_9152_d0817ac67bd2\" ><thead>    <tr>        <th class=\"blank level0\" ></th>        <th class=\"col_heading level0 col0\" >Total Students</th>        <th class=\"col_heading level0 col1\" >Total School Budget</th>        <th class=\"col_heading level0 col2\" >Per Student Budget</th>        <th class=\"col_heading level0 col3\" >Average Math Score</th>        <th class=\"col_heading level0 col4\" >Average Reading Score</th>        <th class=\"col_heading level0 col5\" >% Passing Math</th>        <th class=\"col_heading level0 col6\" >% Passing Reading</th>        <th class=\"col_heading level0 col7\" >% Overall Passing</th>    </tr>    <tr>        <th class=\"index_name level0\" >school_name</th>        <th class=\"blank\" ></th>        <th class=\"blank\" ></th>        <th class=\"blank\" ></th>        <th class=\"blank\" ></th>        <th class=\"blank\" ></th>        <th class=\"blank\" ></th>        <th class=\"blank\" ></th>        <th class=\"blank\" ></th>    </tr></thead><tbody>\n",
       "                <tr>\n",
       "                        <th id=\"T_9ef568e6_9ca6_11eb_9152_d0817ac67bd2level0_row0\" class=\"row_heading level0 row0\" >Rodriguez High School</th>\n",
       "                        <td id=\"T_9ef568e6_9ca6_11eb_9152_d0817ac67bd2row0_col0\" class=\"data row0 col0\" >3,999</td>\n",
       "                        <td id=\"T_9ef568e6_9ca6_11eb_9152_d0817ac67bd2row0_col1\" class=\"data row0 col1\" >$2,547,363.00</td>\n",
       "                        <td id=\"T_9ef568e6_9ca6_11eb_9152_d0817ac67bd2row0_col2\" class=\"data row0 col2\" >$637.00</td>\n",
       "                        <td id=\"T_9ef568e6_9ca6_11eb_9152_d0817ac67bd2row0_col3\" class=\"data row0 col3\" >76.8%</td>\n",
       "                        <td id=\"T_9ef568e6_9ca6_11eb_9152_d0817ac67bd2row0_col4\" class=\"data row0 col4\" >80.7%</td>\n",
       "                        <td id=\"T_9ef568e6_9ca6_11eb_9152_d0817ac67bd2row0_col5\" class=\"data row0 col5\" >66.4%</td>\n",
       "                        <td id=\"T_9ef568e6_9ca6_11eb_9152_d0817ac67bd2row0_col6\" class=\"data row0 col6\" >80.2%</td>\n",
       "                        <td id=\"T_9ef568e6_9ca6_11eb_9152_d0817ac67bd2row0_col7\" class=\"data row0 col7\" >53.0%</td>\n",
       "            </tr>\n",
       "            <tr>\n",
       "                        <th id=\"T_9ef568e6_9ca6_11eb_9152_d0817ac67bd2level0_row1\" class=\"row_heading level0 row1\" >Figueroa High School</th>\n",
       "                        <td id=\"T_9ef568e6_9ca6_11eb_9152_d0817ac67bd2row1_col0\" class=\"data row1 col0\" >2,949</td>\n",
       "                        <td id=\"T_9ef568e6_9ca6_11eb_9152_d0817ac67bd2row1_col1\" class=\"data row1 col1\" >$1,884,411.00</td>\n",
       "                        <td id=\"T_9ef568e6_9ca6_11eb_9152_d0817ac67bd2row1_col2\" class=\"data row1 col2\" >$639.00</td>\n",
       "                        <td id=\"T_9ef568e6_9ca6_11eb_9152_d0817ac67bd2row1_col3\" class=\"data row1 col3\" >76.7%</td>\n",
       "                        <td id=\"T_9ef568e6_9ca6_11eb_9152_d0817ac67bd2row1_col4\" class=\"data row1 col4\" >81.2%</td>\n",
       "                        <td id=\"T_9ef568e6_9ca6_11eb_9152_d0817ac67bd2row1_col5\" class=\"data row1 col5\" >66.0%</td>\n",
       "                        <td id=\"T_9ef568e6_9ca6_11eb_9152_d0817ac67bd2row1_col6\" class=\"data row1 col6\" >80.7%</td>\n",
       "                        <td id=\"T_9ef568e6_9ca6_11eb_9152_d0817ac67bd2row1_col7\" class=\"data row1 col7\" >53.2%</td>\n",
       "            </tr>\n",
       "            <tr>\n",
       "                        <th id=\"T_9ef568e6_9ca6_11eb_9152_d0817ac67bd2level0_row2\" class=\"row_heading level0 row2\" >Huang High School</th>\n",
       "                        <td id=\"T_9ef568e6_9ca6_11eb_9152_d0817ac67bd2row2_col0\" class=\"data row2 col0\" >2,917</td>\n",
       "                        <td id=\"T_9ef568e6_9ca6_11eb_9152_d0817ac67bd2row2_col1\" class=\"data row2 col1\" >$1,910,635.00</td>\n",
       "                        <td id=\"T_9ef568e6_9ca6_11eb_9152_d0817ac67bd2row2_col2\" class=\"data row2 col2\" >$655.00</td>\n",
       "                        <td id=\"T_9ef568e6_9ca6_11eb_9152_d0817ac67bd2row2_col3\" class=\"data row2 col3\" >76.6%</td>\n",
       "                        <td id=\"T_9ef568e6_9ca6_11eb_9152_d0817ac67bd2row2_col4\" class=\"data row2 col4\" >81.2%</td>\n",
       "                        <td id=\"T_9ef568e6_9ca6_11eb_9152_d0817ac67bd2row2_col5\" class=\"data row2 col5\" >65.7%</td>\n",
       "                        <td id=\"T_9ef568e6_9ca6_11eb_9152_d0817ac67bd2row2_col6\" class=\"data row2 col6\" >81.3%</td>\n",
       "                        <td id=\"T_9ef568e6_9ca6_11eb_9152_d0817ac67bd2row2_col7\" class=\"data row2 col7\" >53.5%</td>\n",
       "            </tr>\n",
       "            <tr>\n",
       "                        <th id=\"T_9ef568e6_9ca6_11eb_9152_d0817ac67bd2level0_row3\" class=\"row_heading level0 row3\" >Hernandez High School</th>\n",
       "                        <td id=\"T_9ef568e6_9ca6_11eb_9152_d0817ac67bd2row3_col0\" class=\"data row3 col0\" >4,635</td>\n",
       "                        <td id=\"T_9ef568e6_9ca6_11eb_9152_d0817ac67bd2row3_col1\" class=\"data row3 col1\" >$3,022,020.00</td>\n",
       "                        <td id=\"T_9ef568e6_9ca6_11eb_9152_d0817ac67bd2row3_col2\" class=\"data row3 col2\" >$652.00</td>\n",
       "                        <td id=\"T_9ef568e6_9ca6_11eb_9152_d0817ac67bd2row3_col3\" class=\"data row3 col3\" >77.3%</td>\n",
       "                        <td id=\"T_9ef568e6_9ca6_11eb_9152_d0817ac67bd2row3_col4\" class=\"data row3 col4\" >80.9%</td>\n",
       "                        <td id=\"T_9ef568e6_9ca6_11eb_9152_d0817ac67bd2row3_col5\" class=\"data row3 col5\" >66.8%</td>\n",
       "                        <td id=\"T_9ef568e6_9ca6_11eb_9152_d0817ac67bd2row3_col6\" class=\"data row3 col6\" >80.9%</td>\n",
       "                        <td id=\"T_9ef568e6_9ca6_11eb_9152_d0817ac67bd2row3_col7\" class=\"data row3 col7\" >53.5%</td>\n",
       "            </tr>\n",
       "            <tr>\n",
       "                        <th id=\"T_9ef568e6_9ca6_11eb_9152_d0817ac67bd2level0_row4\" class=\"row_heading level0 row4\" >Johnson High School</th>\n",
       "                        <td id=\"T_9ef568e6_9ca6_11eb_9152_d0817ac67bd2row4_col0\" class=\"data row4 col0\" >4,761</td>\n",
       "                        <td id=\"T_9ef568e6_9ca6_11eb_9152_d0817ac67bd2row4_col1\" class=\"data row4 col1\" >$3,094,650.00</td>\n",
       "                        <td id=\"T_9ef568e6_9ca6_11eb_9152_d0817ac67bd2row4_col2\" class=\"data row4 col2\" >$650.00</td>\n",
       "                        <td id=\"T_9ef568e6_9ca6_11eb_9152_d0817ac67bd2row4_col3\" class=\"data row4 col3\" >77.1%</td>\n",
       "                        <td id=\"T_9ef568e6_9ca6_11eb_9152_d0817ac67bd2row4_col4\" class=\"data row4 col4\" >81.0%</td>\n",
       "                        <td id=\"T_9ef568e6_9ca6_11eb_9152_d0817ac67bd2row4_col5\" class=\"data row4 col5\" >66.1%</td>\n",
       "                        <td id=\"T_9ef568e6_9ca6_11eb_9152_d0817ac67bd2row4_col6\" class=\"data row4 col6\" >81.2%</td>\n",
       "                        <td id=\"T_9ef568e6_9ca6_11eb_9152_d0817ac67bd2row4_col7\" class=\"data row4 col7\" >53.5%</td>\n",
       "            </tr>\n",
       "    </tbody></table>"
      ],
      "text/plain": [
       "<pandas.io.formats.style.Styler at 0x7ff8cc2ee7f0>"
      ]
     },
     "execution_count": 331,
     "metadata": {},
     "output_type": "execute_result"
    }
   ],
   "source": [
    "topschools_df = schoolsummary_table_df.sort_values(\"% Overall Passing\", ascending=True)\n",
    "\n",
    "topschools_df.head(5).style.format(format_summary)"
   ]
  },
  {
   "cell_type": "markdown",
   "metadata": {
    "collapsed": true
   },
   "source": [
    "## Math Scores by Grade"
   ]
  },
  {
   "cell_type": "markdown",
   "metadata": {},
   "source": [
    "* Create a table that lists the average Reading Score for students of each grade level (9th, 10th, 11th, 12th) at each school.\n",
    "\n",
    "  * Create a pandas series for each grade. Hint: use a conditional statement.\n",
    "  \n",
    "  * Group each series by school\n",
    "  \n",
    "  * Combine the series into a dataframe\n",
    "  \n",
    "  * Optional: give the displayed data cleaner formatting"
   ]
  },
  {
   "cell_type": "code",
   "execution_count": 308,
   "metadata": {},
   "outputs": [],
   "source": [
    "#group by school\n",
    "#grades as columns\n",
    "#average math score per grade\n",
    "#summary table\n",
    "#formatting"
   ]
  },
  {
   "cell_type": "markdown",
   "metadata": {},
   "source": [
    "## Reading Score by Grade "
   ]
  },
  {
   "cell_type": "markdown",
   "metadata": {},
   "source": [
    "* Perform the same operations as above for reading scores"
   ]
  },
  {
   "cell_type": "code",
   "execution_count": 309,
   "metadata": {},
   "outputs": [],
   "source": [
    "#group by school\n",
    "#grades as columns\n",
    "#average reading score per grade\n",
    "#summary table\n",
    "#formatting"
   ]
  },
  {
   "cell_type": "markdown",
   "metadata": {},
   "source": [
    "## Scores by School Spending"
   ]
  },
  {
   "cell_type": "markdown",
   "metadata": {},
   "source": [
    "* Create a table that breaks down school performances based on average Spending Ranges (Per Student). Use 4 reasonable bins to group school spending. Include in the table each of the following:\n",
    "  * Average Math Score\n",
    "  * Average Reading Score\n",
    "  * % Passing Math\n",
    "  * % Passing Reading\n",
    "  * Overall Passing Rate (Average of the above two)"
   ]
  },
  {
   "cell_type": "code",
   "execution_count": null,
   "metadata": {},
   "outputs": [],
   "source": []
  },
  {
   "cell_type": "markdown",
   "metadata": {},
   "source": [
    "## Scores by School Size"
   ]
  },
  {
   "cell_type": "markdown",
   "metadata": {},
   "source": [
    "* Perform the same operations as above, based on school size."
   ]
  },
  {
   "cell_type": "code",
   "execution_count": null,
   "metadata": {
    "scrolled": true
   },
   "outputs": [],
   "source": []
  },
  {
   "cell_type": "markdown",
   "metadata": {},
   "source": [
    "## Scores by School Type"
   ]
  },
  {
   "cell_type": "markdown",
   "metadata": {},
   "source": [
    "* Perform the same operations as above, based on school type"
   ]
  },
  {
   "cell_type": "code",
   "execution_count": null,
   "metadata": {},
   "outputs": [],
   "source": []
  },
  {
   "cell_type": "code",
   "execution_count": null,
   "metadata": {},
   "outputs": [],
   "source": []
  }
 ],
 "metadata": {
  "anaconda-cloud": {},
  "kernel_info": {
   "name": "python3"
  },
  "kernelspec": {
   "display_name": "Python 3",
   "language": "python",
   "name": "python3"
  },
  "language_info": {
   "codemirror_mode": {
    "name": "ipython",
    "version": 3
   },
   "file_extension": ".py",
   "mimetype": "text/x-python",
   "name": "python",
   "nbconvert_exporter": "python",
   "pygments_lexer": "ipython3",
   "version": "3.8.5"
  },
  "latex_envs": {
   "LaTeX_envs_menu_present": true,
   "autoclose": false,
   "autocomplete": true,
   "bibliofile": "biblio.bib",
   "cite_by": "apalike",
   "current_citInitial": 1,
   "eqLabelWithNumbers": true,
   "eqNumInitial": 1,
   "hotkeys": {
    "equation": "Ctrl-E",
    "itemize": "Ctrl-I"
   },
   "labels_anchors": false,
   "latex_user_defs": false,
   "report_style_numbering": false,
   "user_envs_cfg": false
  },
  "nteract": {
   "version": "0.8.4"
  }
 },
 "nbformat": 4,
 "nbformat_minor": 1
}
