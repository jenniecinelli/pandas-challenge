{
 "cells": [
  {
   "cell_type": "markdown",
   "metadata": {},
   "source": [
    "### Note\n",
    "* Instructions have been included for each segment. You do not have to follow them exactly, but they are included to help you think through the steps."
   ]
  },
  {
   "cell_type": "code",
   "execution_count": 71,
   "metadata": {
    "scrolled": false
   },
   "outputs": [
    {
     "data": {
      "text/html": [
       "<div>\n",
       "<style scoped>\n",
       "    .dataframe tbody tr th:only-of-type {\n",
       "        vertical-align: middle;\n",
       "    }\n",
       "\n",
       "    .dataframe tbody tr th {\n",
       "        vertical-align: top;\n",
       "    }\n",
       "\n",
       "    .dataframe thead th {\n",
       "        text-align: right;\n",
       "    }\n",
       "</style>\n",
       "<table border=\"1\" class=\"dataframe\">\n",
       "  <thead>\n",
       "    <tr style=\"text-align: right;\">\n",
       "      <th></th>\n",
       "      <th>Purchase ID</th>\n",
       "      <th>SN</th>\n",
       "      <th>Age</th>\n",
       "      <th>Gender</th>\n",
       "      <th>Item ID</th>\n",
       "      <th>Item Name</th>\n",
       "      <th>Price</th>\n",
       "    </tr>\n",
       "  </thead>\n",
       "  <tbody>\n",
       "    <tr>\n",
       "      <th>0</th>\n",
       "      <td>0</td>\n",
       "      <td>Lisim78</td>\n",
       "      <td>20</td>\n",
       "      <td>Male</td>\n",
       "      <td>108</td>\n",
       "      <td>Extraction, Quickblade Of Trembling Hands</td>\n",
       "      <td>3.53</td>\n",
       "    </tr>\n",
       "    <tr>\n",
       "      <th>1</th>\n",
       "      <td>1</td>\n",
       "      <td>Lisovynya38</td>\n",
       "      <td>40</td>\n",
       "      <td>Male</td>\n",
       "      <td>143</td>\n",
       "      <td>Frenzied Scimitar</td>\n",
       "      <td>1.56</td>\n",
       "    </tr>\n",
       "    <tr>\n",
       "      <th>2</th>\n",
       "      <td>2</td>\n",
       "      <td>Ithergue48</td>\n",
       "      <td>24</td>\n",
       "      <td>Male</td>\n",
       "      <td>92</td>\n",
       "      <td>Final Critic</td>\n",
       "      <td>4.88</td>\n",
       "    </tr>\n",
       "    <tr>\n",
       "      <th>3</th>\n",
       "      <td>3</td>\n",
       "      <td>Chamassasya86</td>\n",
       "      <td>24</td>\n",
       "      <td>Male</td>\n",
       "      <td>100</td>\n",
       "      <td>Blindscythe</td>\n",
       "      <td>3.27</td>\n",
       "    </tr>\n",
       "    <tr>\n",
       "      <th>4</th>\n",
       "      <td>4</td>\n",
       "      <td>Iskosia90</td>\n",
       "      <td>23</td>\n",
       "      <td>Male</td>\n",
       "      <td>131</td>\n",
       "      <td>Fury</td>\n",
       "      <td>1.44</td>\n",
       "    </tr>\n",
       "  </tbody>\n",
       "</table>\n",
       "</div>"
      ],
      "text/plain": [
       "   Purchase ID             SN  Age Gender  Item ID  \\\n",
       "0            0        Lisim78   20   Male      108   \n",
       "1            1    Lisovynya38   40   Male      143   \n",
       "2            2     Ithergue48   24   Male       92   \n",
       "3            3  Chamassasya86   24   Male      100   \n",
       "4            4      Iskosia90   23   Male      131   \n",
       "\n",
       "                                   Item Name  Price  \n",
       "0  Extraction, Quickblade Of Trembling Hands   3.53  \n",
       "1                          Frenzied Scimitar   1.56  \n",
       "2                               Final Critic   4.88  \n",
       "3                                Blindscythe   3.27  \n",
       "4                                       Fury   1.44  "
      ]
     },
     "execution_count": 71,
     "metadata": {},
     "output_type": "execute_result"
    }
   ],
   "source": [
    "# Dependencies and Setup\n",
    "import pandas as pd\n",
    "\n",
    "# File to Load (Remember to Change These)\n",
    "original_file = \"Resources/purchase_data.csv\"\n",
    "\n",
    "# Read Purchasing File and store into Pandas data frame\n",
    "purchase_data_df = pd.read_csv(original_file)\n",
    "purchase_data_df.head()"
   ]
  },
  {
   "cell_type": "markdown",
   "metadata": {},
   "source": [
    "## Player Count"
   ]
  },
  {
   "cell_type": "markdown",
   "metadata": {},
   "source": [
    "* Display the total number of players\n"
   ]
  },
  {
   "cell_type": "code",
   "execution_count": 72,
   "metadata": {
    "scrolled": true
   },
   "outputs": [
    {
     "data": {
      "text/html": [
       "<div>\n",
       "<style scoped>\n",
       "    .dataframe tbody tr th:only-of-type {\n",
       "        vertical-align: middle;\n",
       "    }\n",
       "\n",
       "    .dataframe tbody tr th {\n",
       "        vertical-align: top;\n",
       "    }\n",
       "\n",
       "    .dataframe thead th {\n",
       "        text-align: right;\n",
       "    }\n",
       "</style>\n",
       "<table border=\"1\" class=\"dataframe\">\n",
       "  <thead>\n",
       "    <tr style=\"text-align: right;\">\n",
       "      <th></th>\n",
       "      <th>Total Players</th>\n",
       "    </tr>\n",
       "  </thead>\n",
       "  <tbody>\n",
       "    <tr>\n",
       "      <th>0</th>\n",
       "      <td>576</td>\n",
       "    </tr>\n",
       "  </tbody>\n",
       "</table>\n",
       "</div>"
      ],
      "text/plain": [
       "   Total Players\n",
       "0            576"
      ]
     },
     "execution_count": 72,
     "metadata": {},
     "output_type": "execute_result"
    }
   ],
   "source": [
    "player_count = len(purchase_data_df[\"SN\"].unique())\n",
    "pc_summary_df = pd.DataFrame({\"Total Players\": [player_count]})\n",
    "pc_summary_df"
   ]
  },
  {
   "cell_type": "markdown",
   "metadata": {},
   "source": [
    "## Purchasing Analysis (Total)"
   ]
  },
  {
   "cell_type": "markdown",
   "metadata": {},
   "source": [
    "* Run basic calculations to obtain number of unique items, average price, etc.\n",
    "\n",
    "\n",
    "* Create a summary data frame to hold the results\n",
    "\n",
    "\n",
    "* Optional: give the displayed data cleaner formatting\n",
    "\n",
    "\n",
    "* Display the summary data frame\n"
   ]
  },
  {
   "cell_type": "code",
   "execution_count": 73,
   "metadata": {
    "scrolled": true
   },
   "outputs": [
    {
     "data": {
      "text/html": [
       "<style  type=\"text/css\" >\n",
       "</style><table id=\"T_3417006c_9bc9_11eb_8833_d0817ac67bd2\" ><thead>    <tr>        <th class=\"blank level0\" ></th>        <th class=\"col_heading level0 col0\" >Number of Unique Items</th>        <th class=\"col_heading level0 col1\" >Average Price</th>        <th class=\"col_heading level0 col2\" >Number of Purchases</th>        <th class=\"col_heading level0 col3\" >Total Revenue</th>    </tr></thead><tbody>\n",
       "                <tr>\n",
       "                        <th id=\"T_3417006c_9bc9_11eb_8833_d0817ac67bd2level0_row0\" class=\"row_heading level0 row0\" >0</th>\n",
       "                        <td id=\"T_3417006c_9bc9_11eb_8833_d0817ac67bd2row0_col0\" class=\"data row0 col0\" >179</td>\n",
       "                        <td id=\"T_3417006c_9bc9_11eb_8833_d0817ac67bd2row0_col1\" class=\"data row0 col1\" >$3.05</td>\n",
       "                        <td id=\"T_3417006c_9bc9_11eb_8833_d0817ac67bd2row0_col2\" class=\"data row0 col2\" >780</td>\n",
       "                        <td id=\"T_3417006c_9bc9_11eb_8833_d0817ac67bd2row0_col3\" class=\"data row0 col3\" >$2,379.77</td>\n",
       "            </tr>\n",
       "    </tbody></table>"
      ],
      "text/plain": [
       "<pandas.io.formats.style.Styler at 0x7feb563dad60>"
      ]
     },
     "execution_count": 73,
     "metadata": {},
     "output_type": "execute_result"
    }
   ],
   "source": [
    "#unique Items\n",
    "unique_item_count = len(purchase_data_df[\"Item Name\"].unique())\n",
    "\n",
    "#average price\n",
    "average_price = (purchase_data_df[\"Price\"]).mean()\n",
    "\n",
    "#total number of purchases\n",
    "total_purchases = (purchase_data_df['Purchase ID']).count()\n",
    "\n",
    "#total Revenue\n",
    "total_revenue = sum(purchase_data_df['Price'])\n",
    "\n",
    "#summarytable\n",
    "total_summary_df = pd.DataFrame({\"Number of Unique Items\": [unique_item_count],\n",
    "                                \"Average Price\": [average_price],\n",
    "                                \"Number of Purchases\": [total_purchases],\n",
    "                                \"Total Revenue\": [total_revenue]\n",
    "                                 })\n",
    "total_summary_df\n",
    "\n",
    "format_summary = {'Average Price':'${0:,.2f}', 'Total Revenue': '${0:,.2f}'}\n",
    "total_summary_df.style.format(format_summary)"
   ]
  },
  {
   "cell_type": "markdown",
   "metadata": {},
   "source": [
    "## Gender Demographics"
   ]
  },
  {
   "cell_type": "markdown",
   "metadata": {},
   "source": [
    "* Percentage and Count of Male Players\n",
    "\n",
    "\n",
    "* Percentage and Count of Female Players\n",
    "\n",
    "\n",
    "* Percentage and Count of Other / Non-Disclosed\n",
    "\n",
    "\n"
   ]
  },
  {
   "cell_type": "code",
   "execution_count": 74,
   "metadata": {
    "scrolled": true
   },
   "outputs": [
    {
     "data": {
      "text/html": [
       "<style  type=\"text/css\" >\n",
       "</style><table id=\"T_34a95458_9bc9_11eb_8833_d0817ac67bd2\" ><thead>    <tr>        <th class=\"blank level0\" ></th>        <th class=\"col_heading level0 col0\" >Total Count</th>        <th class=\"col_heading level0 col1\" >Percentage of Players</th>    </tr>    <tr>        <th class=\"index_name level0\" >Gender</th>        <th class=\"blank\" ></th>        <th class=\"blank\" ></th>    </tr></thead><tbody>\n",
       "                <tr>\n",
       "                        <th id=\"T_34a95458_9bc9_11eb_8833_d0817ac67bd2level0_row0\" class=\"row_heading level0 row0\" >Female</th>\n",
       "                        <td id=\"T_34a95458_9bc9_11eb_8833_d0817ac67bd2row0_col0\" class=\"data row0 col0\" >81</td>\n",
       "                        <td id=\"T_34a95458_9bc9_11eb_8833_d0817ac67bd2row0_col1\" class=\"data row0 col1\" >14.06%</td>\n",
       "            </tr>\n",
       "            <tr>\n",
       "                        <th id=\"T_34a95458_9bc9_11eb_8833_d0817ac67bd2level0_row1\" class=\"row_heading level0 row1\" >Male</th>\n",
       "                        <td id=\"T_34a95458_9bc9_11eb_8833_d0817ac67bd2row1_col0\" class=\"data row1 col0\" >484</td>\n",
       "                        <td id=\"T_34a95458_9bc9_11eb_8833_d0817ac67bd2row1_col1\" class=\"data row1 col1\" >84.03%</td>\n",
       "            </tr>\n",
       "            <tr>\n",
       "                        <th id=\"T_34a95458_9bc9_11eb_8833_d0817ac67bd2level0_row2\" class=\"row_heading level0 row2\" >Other / Non-Disclosed</th>\n",
       "                        <td id=\"T_34a95458_9bc9_11eb_8833_d0817ac67bd2row2_col0\" class=\"data row2 col0\" >11</td>\n",
       "                        <td id=\"T_34a95458_9bc9_11eb_8833_d0817ac67bd2row2_col1\" class=\"data row2 col1\" >1.91%</td>\n",
       "            </tr>\n",
       "    </tbody></table>"
      ],
      "text/plain": [
       "<pandas.io.formats.style.Styler at 0x7feb53469f10>"
      ]
     },
     "execution_count": 74,
     "metadata": {},
     "output_type": "execute_result"
    }
   ],
   "source": [
    "#group by gender\n",
    "gender_data_df = purchase_data_df.groupby(['Gender'])\n",
    "\n",
    "#total count \n",
    "unique_gender = gender_data_df.nunique()[\"SN\"]\n",
    "\n",
    "#percentage of players\n",
    "per_gender = unique_gender/player_count * 100\n",
    "\n",
    "# Creating a new DataFrame using both percentage and count\n",
    "gender_summary_df = pd.DataFrame({\"Total Count\": unique_gender,\n",
    "                                   \"Percentage of Players\": per_gender  \n",
    "                                 })\n",
    "gender_summary_df.head()\n",
    "\n",
    "#formatting\n",
    "format_summary = {'Percentage of Players':'{0:,.2f}%'\n",
    "                 }\n",
    "gender_summary_df.style.format(format_summary)"
   ]
  },
  {
   "cell_type": "markdown",
   "metadata": {},
   "source": [
    "\n",
    "## Purchasing Analysis (Gender)"
   ]
  },
  {
   "cell_type": "markdown",
   "metadata": {},
   "source": [
    "* Run basic calculations to obtain purchase count, avg. purchase price, avg. purchase total per person etc. by gender\n",
    "\n",
    "\n",
    "\n",
    "\n",
    "* Create a summary data frame to hold the results\n",
    "\n",
    "\n",
    "* Optional: give the displayed data cleaner formatting\n",
    "\n",
    "\n",
    "* Display the summary data frame"
   ]
  },
  {
   "cell_type": "code",
   "execution_count": 75,
   "metadata": {},
   "outputs": [
    {
     "data": {
      "text/html": [
       "<style  type=\"text/css\" >\n",
       "</style><table id=\"T_352c2cfc_9bc9_11eb_8833_d0817ac67bd2\" ><thead>    <tr>        <th class=\"blank level0\" ></th>        <th class=\"col_heading level0 col0\" >Purchase Count</th>        <th class=\"col_heading level0 col1\" >Average Purchase Price</th>        <th class=\"col_heading level0 col2\" >Total Purchase Value</th>        <th class=\"col_heading level0 col3\" >Avg Total Purchase per Person</th>    </tr>    <tr>        <th class=\"index_name level0\" >Gender</th>        <th class=\"blank\" ></th>        <th class=\"blank\" ></th>        <th class=\"blank\" ></th>        <th class=\"blank\" ></th>    </tr></thead><tbody>\n",
       "                <tr>\n",
       "                        <th id=\"T_352c2cfc_9bc9_11eb_8833_d0817ac67bd2level0_row0\" class=\"row_heading level0 row0\" >Female</th>\n",
       "                        <td id=\"T_352c2cfc_9bc9_11eb_8833_d0817ac67bd2row0_col0\" class=\"data row0 col0\" >113</td>\n",
       "                        <td id=\"T_352c2cfc_9bc9_11eb_8833_d0817ac67bd2row0_col1\" class=\"data row0 col1\" >$3.20</td>\n",
       "                        <td id=\"T_352c2cfc_9bc9_11eb_8833_d0817ac67bd2row0_col2\" class=\"data row0 col2\" >$361.94</td>\n",
       "                        <td id=\"T_352c2cfc_9bc9_11eb_8833_d0817ac67bd2row0_col3\" class=\"data row0 col3\" >$4.47</td>\n",
       "            </tr>\n",
       "            <tr>\n",
       "                        <th id=\"T_352c2cfc_9bc9_11eb_8833_d0817ac67bd2level0_row1\" class=\"row_heading level0 row1\" >Male</th>\n",
       "                        <td id=\"T_352c2cfc_9bc9_11eb_8833_d0817ac67bd2row1_col0\" class=\"data row1 col0\" >652</td>\n",
       "                        <td id=\"T_352c2cfc_9bc9_11eb_8833_d0817ac67bd2row1_col1\" class=\"data row1 col1\" >$3.02</td>\n",
       "                        <td id=\"T_352c2cfc_9bc9_11eb_8833_d0817ac67bd2row1_col2\" class=\"data row1 col2\" >$1,967.64</td>\n",
       "                        <td id=\"T_352c2cfc_9bc9_11eb_8833_d0817ac67bd2row1_col3\" class=\"data row1 col3\" >$4.07</td>\n",
       "            </tr>\n",
       "            <tr>\n",
       "                        <th id=\"T_352c2cfc_9bc9_11eb_8833_d0817ac67bd2level0_row2\" class=\"row_heading level0 row2\" >Other / Non-Disclosed</th>\n",
       "                        <td id=\"T_352c2cfc_9bc9_11eb_8833_d0817ac67bd2row2_col0\" class=\"data row2 col0\" >15</td>\n",
       "                        <td id=\"T_352c2cfc_9bc9_11eb_8833_d0817ac67bd2row2_col1\" class=\"data row2 col1\" >$3.35</td>\n",
       "                        <td id=\"T_352c2cfc_9bc9_11eb_8833_d0817ac67bd2row2_col2\" class=\"data row2 col2\" >$50.19</td>\n",
       "                        <td id=\"T_352c2cfc_9bc9_11eb_8833_d0817ac67bd2row2_col3\" class=\"data row2 col3\" >$4.56</td>\n",
       "            </tr>\n",
       "    </tbody></table>"
      ],
      "text/plain": [
       "<pandas.io.formats.style.Styler at 0x7feb55d012e0>"
      ]
     },
     "execution_count": 75,
     "metadata": {},
     "output_type": "execute_result"
    }
   ],
   "source": [
    "#purchase count\n",
    "purchase_count = (gender_data_df[\"Purchase ID\"]).count()\n",
    "\n",
    "#Average Purchase Price\n",
    "avg_purchase = (gender_data_df['Price']).mean()\n",
    "\n",
    "#Total Purchase Value\n",
    "total_purchase = (gender_data_df['Price']).sum()\n",
    "\n",
    "#Avg Total Purchase per Person\n",
    "avg_total = total_purchase/unique_gender\n",
    "\n",
    "#summarytable\n",
    "gender_purchase_df = pd.DataFrame({\"Purchase Count\": purchase_count,\n",
    "                                \"Average Purchase Price\": avg_purchase,\n",
    "                                \"Total Purchase Value\": total_purchase,\n",
    "                                \"Avg Total Purchase per Person\": avg_total\n",
    "                                 })\n",
    "gender_purchase_df.head()\n",
    "\n",
    "#formatting\n",
    "format_summary = {'Average Purchase Price':'${0:,.2f}', \n",
    "                  'Total Purchase Value': '${0:,.2f}',\n",
    "                  'Avg Total Purchase per Person': '${0:,.2f}'\n",
    "                 }\n",
    "gender_purchase_df.style.format(format_summary)"
   ]
  },
  {
   "cell_type": "markdown",
   "metadata": {},
   "source": [
    "## Age Demographics"
   ]
  },
  {
   "cell_type": "markdown",
   "metadata": {},
   "source": [
    "* Establish bins for ages\n",
    "\n",
    "\n",
    "* Categorize the existing players using the age bins. Hint: use pd.cut()\n",
    "\n",
    "\n",
    "* Calculate the numbers and percentages by age group\n",
    "\n",
    "\n",
    "* Create a summary data frame to hold the results\n",
    "\n",
    "\n",
    "* Optional: round the percentage column to two decimal points\n",
    "\n",
    "\n",
    "* Display Age Demographics Table\n"
   ]
  },
  {
   "cell_type": "code",
   "execution_count": 76,
   "metadata": {
    "scrolled": true
   },
   "outputs": [
    {
     "data": {
      "text/html": [
       "<style  type=\"text/css\" >\n",
       "</style><table id=\"T_35b3aac4_9bc9_11eb_8833_d0817ac67bd2\" ><thead>    <tr>        <th class=\"blank level0\" ></th>        <th class=\"col_heading level0 col0\" >Total Count</th>        <th class=\"col_heading level0 col1\" >Percentage of Players</th>    </tr>    <tr>        <th class=\"index_name level0\" >Age Groups</th>        <th class=\"blank\" ></th>        <th class=\"blank\" ></th>    </tr></thead><tbody>\n",
       "                <tr>\n",
       "                        <th id=\"T_35b3aac4_9bc9_11eb_8833_d0817ac67bd2level0_row0\" class=\"row_heading level0 row0\" ><10</th>\n",
       "                        <td id=\"T_35b3aac4_9bc9_11eb_8833_d0817ac67bd2row0_col0\" class=\"data row0 col0\" >17</td>\n",
       "                        <td id=\"T_35b3aac4_9bc9_11eb_8833_d0817ac67bd2row0_col1\" class=\"data row0 col1\" >2.95%</td>\n",
       "            </tr>\n",
       "            <tr>\n",
       "                        <th id=\"T_35b3aac4_9bc9_11eb_8833_d0817ac67bd2level0_row1\" class=\"row_heading level0 row1\" >10-14</th>\n",
       "                        <td id=\"T_35b3aac4_9bc9_11eb_8833_d0817ac67bd2row1_col0\" class=\"data row1 col0\" >22</td>\n",
       "                        <td id=\"T_35b3aac4_9bc9_11eb_8833_d0817ac67bd2row1_col1\" class=\"data row1 col1\" >3.82%</td>\n",
       "            </tr>\n",
       "            <tr>\n",
       "                        <th id=\"T_35b3aac4_9bc9_11eb_8833_d0817ac67bd2level0_row2\" class=\"row_heading level0 row2\" >15-19</th>\n",
       "                        <td id=\"T_35b3aac4_9bc9_11eb_8833_d0817ac67bd2row2_col0\" class=\"data row2 col0\" >107</td>\n",
       "                        <td id=\"T_35b3aac4_9bc9_11eb_8833_d0817ac67bd2row2_col1\" class=\"data row2 col1\" >18.58%</td>\n",
       "            </tr>\n",
       "            <tr>\n",
       "                        <th id=\"T_35b3aac4_9bc9_11eb_8833_d0817ac67bd2level0_row3\" class=\"row_heading level0 row3\" >20-24</th>\n",
       "                        <td id=\"T_35b3aac4_9bc9_11eb_8833_d0817ac67bd2row3_col0\" class=\"data row3 col0\" >258</td>\n",
       "                        <td id=\"T_35b3aac4_9bc9_11eb_8833_d0817ac67bd2row3_col1\" class=\"data row3 col1\" >44.79%</td>\n",
       "            </tr>\n",
       "            <tr>\n",
       "                        <th id=\"T_35b3aac4_9bc9_11eb_8833_d0817ac67bd2level0_row4\" class=\"row_heading level0 row4\" >25-29</th>\n",
       "                        <td id=\"T_35b3aac4_9bc9_11eb_8833_d0817ac67bd2row4_col0\" class=\"data row4 col0\" >77</td>\n",
       "                        <td id=\"T_35b3aac4_9bc9_11eb_8833_d0817ac67bd2row4_col1\" class=\"data row4 col1\" >13.37%</td>\n",
       "            </tr>\n",
       "            <tr>\n",
       "                        <th id=\"T_35b3aac4_9bc9_11eb_8833_d0817ac67bd2level0_row5\" class=\"row_heading level0 row5\" >30-34</th>\n",
       "                        <td id=\"T_35b3aac4_9bc9_11eb_8833_d0817ac67bd2row5_col0\" class=\"data row5 col0\" >52</td>\n",
       "                        <td id=\"T_35b3aac4_9bc9_11eb_8833_d0817ac67bd2row5_col1\" class=\"data row5 col1\" >9.03%</td>\n",
       "            </tr>\n",
       "            <tr>\n",
       "                        <th id=\"T_35b3aac4_9bc9_11eb_8833_d0817ac67bd2level0_row6\" class=\"row_heading level0 row6\" >35-39</th>\n",
       "                        <td id=\"T_35b3aac4_9bc9_11eb_8833_d0817ac67bd2row6_col0\" class=\"data row6 col0\" >31</td>\n",
       "                        <td id=\"T_35b3aac4_9bc9_11eb_8833_d0817ac67bd2row6_col1\" class=\"data row6 col1\" >5.38%</td>\n",
       "            </tr>\n",
       "            <tr>\n",
       "                        <th id=\"T_35b3aac4_9bc9_11eb_8833_d0817ac67bd2level0_row7\" class=\"row_heading level0 row7\" >40+</th>\n",
       "                        <td id=\"T_35b3aac4_9bc9_11eb_8833_d0817ac67bd2row7_col0\" class=\"data row7 col0\" >12</td>\n",
       "                        <td id=\"T_35b3aac4_9bc9_11eb_8833_d0817ac67bd2row7_col1\" class=\"data row7 col1\" >2.08%</td>\n",
       "            </tr>\n",
       "    </tbody></table>"
      ],
      "text/plain": [
       "<pandas.io.formats.style.Styler at 0x7feb55d0dc70>"
      ]
     },
     "execution_count": 76,
     "metadata": {},
     "output_type": "execute_result"
    }
   ],
   "source": [
    "#bins for ages\n",
    "bins = [0, 9.90, 14, 19, 24, 29, 34, 39, 100]\n",
    "age_names = [\"<10\", \"10-14\", \"15-19\", \"20-24\", \"25-29\", \"30-34\", \"35-39\", \"40+\"]\n",
    "\n",
    "#categories using bins (pd.cut ())\n",
    "purchase_data_df[\"Age Groups\"] = pd.cut(purchase_data_df[\"Age\"], bins, labels=age_names, include_lowest=True)\n",
    "purchase_data_df\n",
    "\n",
    "#group data\n",
    "age_group_df = purchase_data_df.groupby(\"Age Groups\")\n",
    "\n",
    "#numbers and percentages by age group\n",
    "age_count = age_group_df[\"SN\"].nunique()\n",
    "\n",
    "percent_age = age_count/player_count * 100\n",
    "\n",
    "#summary table\n",
    "age_data_df = pd.DataFrame({\"Total Count\": age_count,\n",
    "                            \"Percentage of Players\": percent_age,\n",
    "                                 })\n",
    "age_data_df\n",
    "\n",
    "#formatting\n",
    "format_summary = {'Percentage of Players':'{0:,.2f}%'\n",
    "                 }\n",
    "age_data_df.style.format(format_summary)"
   ]
  },
  {
   "cell_type": "markdown",
   "metadata": {},
   "source": [
    "## Purchasing Analysis (Age)"
   ]
  },
  {
   "cell_type": "markdown",
   "metadata": {},
   "source": [
    "* Bin the purchase_data data frame by age\n",
    "\n",
    "\n",
    "* Run basic calculations to obtain purchase count, avg. purchase price, avg. purchase total per person etc. in the table below\n",
    "\n",
    "\n",
    "* Create a summary data frame to hold the results\n",
    "\n",
    "\n",
    "* Optional: give the displayed data cleaner formatting\n",
    "\n",
    "\n",
    "* Display the summary data frame"
   ]
  },
  {
   "cell_type": "code",
   "execution_count": 77,
   "metadata": {
    "scrolled": false
   },
   "outputs": [
    {
     "data": {
      "text/html": [
       "<style  type=\"text/css\" >\n",
       "</style><table id=\"T_364a541a_9bc9_11eb_8833_d0817ac67bd2\" ><thead>    <tr>        <th class=\"blank level0\" ></th>        <th class=\"col_heading level0 col0\" >Purchase Count</th>        <th class=\"col_heading level0 col1\" >Average Purchase Price</th>        <th class=\"col_heading level0 col2\" >Total Purchase Value</th>        <th class=\"col_heading level0 col3\" >Avg Total Purchase per Person</th>    </tr>    <tr>        <th class=\"index_name level0\" >Age Groups</th>        <th class=\"blank\" ></th>        <th class=\"blank\" ></th>        <th class=\"blank\" ></th>        <th class=\"blank\" ></th>    </tr></thead><tbody>\n",
       "                <tr>\n",
       "                        <th id=\"T_364a541a_9bc9_11eb_8833_d0817ac67bd2level0_row0\" class=\"row_heading level0 row0\" ><10</th>\n",
       "                        <td id=\"T_364a541a_9bc9_11eb_8833_d0817ac67bd2row0_col0\" class=\"data row0 col0\" >23</td>\n",
       "                        <td id=\"T_364a541a_9bc9_11eb_8833_d0817ac67bd2row0_col1\" class=\"data row0 col1\" >$3.35</td>\n",
       "                        <td id=\"T_364a541a_9bc9_11eb_8833_d0817ac67bd2row0_col2\" class=\"data row0 col2\" >$77.13</td>\n",
       "                        <td id=\"T_364a541a_9bc9_11eb_8833_d0817ac67bd2row0_col3\" class=\"data row0 col3\" >4.54%</td>\n",
       "            </tr>\n",
       "            <tr>\n",
       "                        <th id=\"T_364a541a_9bc9_11eb_8833_d0817ac67bd2level0_row1\" class=\"row_heading level0 row1\" >10-14</th>\n",
       "                        <td id=\"T_364a541a_9bc9_11eb_8833_d0817ac67bd2row1_col0\" class=\"data row1 col0\" >28</td>\n",
       "                        <td id=\"T_364a541a_9bc9_11eb_8833_d0817ac67bd2row1_col1\" class=\"data row1 col1\" >$2.96</td>\n",
       "                        <td id=\"T_364a541a_9bc9_11eb_8833_d0817ac67bd2row1_col2\" class=\"data row1 col2\" >$82.78</td>\n",
       "                        <td id=\"T_364a541a_9bc9_11eb_8833_d0817ac67bd2row1_col3\" class=\"data row1 col3\" >3.76%</td>\n",
       "            </tr>\n",
       "            <tr>\n",
       "                        <th id=\"T_364a541a_9bc9_11eb_8833_d0817ac67bd2level0_row2\" class=\"row_heading level0 row2\" >15-19</th>\n",
       "                        <td id=\"T_364a541a_9bc9_11eb_8833_d0817ac67bd2row2_col0\" class=\"data row2 col0\" >136</td>\n",
       "                        <td id=\"T_364a541a_9bc9_11eb_8833_d0817ac67bd2row2_col1\" class=\"data row2 col1\" >$3.04</td>\n",
       "                        <td id=\"T_364a541a_9bc9_11eb_8833_d0817ac67bd2row2_col2\" class=\"data row2 col2\" >$412.89</td>\n",
       "                        <td id=\"T_364a541a_9bc9_11eb_8833_d0817ac67bd2row2_col3\" class=\"data row2 col3\" >3.86%</td>\n",
       "            </tr>\n",
       "            <tr>\n",
       "                        <th id=\"T_364a541a_9bc9_11eb_8833_d0817ac67bd2level0_row3\" class=\"row_heading level0 row3\" >20-24</th>\n",
       "                        <td id=\"T_364a541a_9bc9_11eb_8833_d0817ac67bd2row3_col0\" class=\"data row3 col0\" >365</td>\n",
       "                        <td id=\"T_364a541a_9bc9_11eb_8833_d0817ac67bd2row3_col1\" class=\"data row3 col1\" >$3.05</td>\n",
       "                        <td id=\"T_364a541a_9bc9_11eb_8833_d0817ac67bd2row3_col2\" class=\"data row3 col2\" >$1,114.06</td>\n",
       "                        <td id=\"T_364a541a_9bc9_11eb_8833_d0817ac67bd2row3_col3\" class=\"data row3 col3\" >4.32%</td>\n",
       "            </tr>\n",
       "            <tr>\n",
       "                        <th id=\"T_364a541a_9bc9_11eb_8833_d0817ac67bd2level0_row4\" class=\"row_heading level0 row4\" >25-29</th>\n",
       "                        <td id=\"T_364a541a_9bc9_11eb_8833_d0817ac67bd2row4_col0\" class=\"data row4 col0\" >101</td>\n",
       "                        <td id=\"T_364a541a_9bc9_11eb_8833_d0817ac67bd2row4_col1\" class=\"data row4 col1\" >$2.90</td>\n",
       "                        <td id=\"T_364a541a_9bc9_11eb_8833_d0817ac67bd2row4_col2\" class=\"data row4 col2\" >$293.00</td>\n",
       "                        <td id=\"T_364a541a_9bc9_11eb_8833_d0817ac67bd2row4_col3\" class=\"data row4 col3\" >3.81%</td>\n",
       "            </tr>\n",
       "            <tr>\n",
       "                        <th id=\"T_364a541a_9bc9_11eb_8833_d0817ac67bd2level0_row5\" class=\"row_heading level0 row5\" >30-34</th>\n",
       "                        <td id=\"T_364a541a_9bc9_11eb_8833_d0817ac67bd2row5_col0\" class=\"data row5 col0\" >73</td>\n",
       "                        <td id=\"T_364a541a_9bc9_11eb_8833_d0817ac67bd2row5_col1\" class=\"data row5 col1\" >$2.93</td>\n",
       "                        <td id=\"T_364a541a_9bc9_11eb_8833_d0817ac67bd2row5_col2\" class=\"data row5 col2\" >$214.00</td>\n",
       "                        <td id=\"T_364a541a_9bc9_11eb_8833_d0817ac67bd2row5_col3\" class=\"data row5 col3\" >4.12%</td>\n",
       "            </tr>\n",
       "            <tr>\n",
       "                        <th id=\"T_364a541a_9bc9_11eb_8833_d0817ac67bd2level0_row6\" class=\"row_heading level0 row6\" >35-39</th>\n",
       "                        <td id=\"T_364a541a_9bc9_11eb_8833_d0817ac67bd2row6_col0\" class=\"data row6 col0\" >41</td>\n",
       "                        <td id=\"T_364a541a_9bc9_11eb_8833_d0817ac67bd2row6_col1\" class=\"data row6 col1\" >$3.60</td>\n",
       "                        <td id=\"T_364a541a_9bc9_11eb_8833_d0817ac67bd2row6_col2\" class=\"data row6 col2\" >$147.67</td>\n",
       "                        <td id=\"T_364a541a_9bc9_11eb_8833_d0817ac67bd2row6_col3\" class=\"data row6 col3\" >4.76%</td>\n",
       "            </tr>\n",
       "            <tr>\n",
       "                        <th id=\"T_364a541a_9bc9_11eb_8833_d0817ac67bd2level0_row7\" class=\"row_heading level0 row7\" >40+</th>\n",
       "                        <td id=\"T_364a541a_9bc9_11eb_8833_d0817ac67bd2row7_col0\" class=\"data row7 col0\" >13</td>\n",
       "                        <td id=\"T_364a541a_9bc9_11eb_8833_d0817ac67bd2row7_col1\" class=\"data row7 col1\" >$2.94</td>\n",
       "                        <td id=\"T_364a541a_9bc9_11eb_8833_d0817ac67bd2row7_col2\" class=\"data row7 col2\" >$38.24</td>\n",
       "                        <td id=\"T_364a541a_9bc9_11eb_8833_d0817ac67bd2row7_col3\" class=\"data row7 col3\" >3.19%</td>\n",
       "            </tr>\n",
       "    </tbody></table>"
      ],
      "text/plain": [
       "<pandas.io.formats.style.Styler at 0x7feb55ca7b20>"
      ]
     },
     "execution_count": 77,
     "metadata": {},
     "output_type": "execute_result"
    }
   ],
   "source": [
    "#group index\n",
    "age_group_df = purchase_data_df.groupby(\"Age Groups\")\n",
    "\n",
    "#purchase count\n",
    "purchase_count_age = age_group_df[\"Purchase ID\"].count()\n",
    "\n",
    "#average purchase price\n",
    "average_purchase_price_age = age_group_df[\"Price\"].mean()\n",
    "\n",
    "#total purchase value\n",
    "total_value_age = age_group_df[\"Price\"].sum()\n",
    "\n",
    "#avg total purchase per person\n",
    "avg_total_person = total_value_age/age_count\n",
    "\n",
    "#summary table\n",
    "age_purchase_data_df = pd.DataFrame({\"Purchase Count\": purchase_count_age,\n",
    "                                    \"Average Purchase Price\": average_purchase_price_age,\n",
    "                                    \"Total Purchase Value\": total_value_age,\n",
    "                                    \"Avg Total Purchase per Person\": avg_total_person\n",
    "                                    })\n",
    "age_purchase_data_df\n",
    "\n",
    "#formatting\n",
    "format_summary = {'Average Purchase Price':'${0:,.2f}',\n",
    "                  'Total Purchase Value':'${0:,.2f}',\n",
    "                  'Avg Total Purchase per Person':'{0:,.2f}%'\n",
    "                 }\n",
    "age_purchase_data_df.style.format(format_summary)\n"
   ]
  },
  {
   "cell_type": "markdown",
   "metadata": {},
   "source": [
    "## Top Spenders"
   ]
  },
  {
   "cell_type": "markdown",
   "metadata": {},
   "source": [
    "* Run basic calculations to obtain the results in the table below\n",
    "\n",
    "\n",
    "* Create a summary data frame to hold the results\n",
    "\n",
    "\n",
    "* Sort the total purchase value column in descending order\n",
    "\n",
    "\n",
    "* Optional: give the displayed data cleaner formatting\n",
    "\n",
    "\n",
    "* Display a preview of the summary data frame\n",
    "\n"
   ]
  },
  {
   "cell_type": "code",
   "execution_count": 78,
   "metadata": {},
   "outputs": [
    {
     "data": {
      "text/html": [
       "<style  type=\"text/css\" >\n",
       "</style><table id=\"T_36e0c8e6_9bc9_11eb_8833_d0817ac67bd2\" ><thead>    <tr>        <th class=\"blank level0\" ></th>        <th class=\"col_heading level0 col0\" >Purchase Count</th>        <th class=\"col_heading level0 col1\" >Average Purchase Price</th>        <th class=\"col_heading level0 col2\" >Total Purchase Value</th>    </tr>    <tr>        <th class=\"index_name level0\" >SN</th>        <th class=\"blank\" ></th>        <th class=\"blank\" ></th>        <th class=\"blank\" ></th>    </tr></thead><tbody>\n",
       "                <tr>\n",
       "                        <th id=\"T_36e0c8e6_9bc9_11eb_8833_d0817ac67bd2level0_row0\" class=\"row_heading level0 row0\" >Lisosia93</th>\n",
       "                        <td id=\"T_36e0c8e6_9bc9_11eb_8833_d0817ac67bd2row0_col0\" class=\"data row0 col0\" >5</td>\n",
       "                        <td id=\"T_36e0c8e6_9bc9_11eb_8833_d0817ac67bd2row0_col1\" class=\"data row0 col1\" >$3.79</td>\n",
       "                        <td id=\"T_36e0c8e6_9bc9_11eb_8833_d0817ac67bd2row0_col2\" class=\"data row0 col2\" >$18.96</td>\n",
       "            </tr>\n",
       "            <tr>\n",
       "                        <th id=\"T_36e0c8e6_9bc9_11eb_8833_d0817ac67bd2level0_row1\" class=\"row_heading level0 row1\" >Idastidru52</th>\n",
       "                        <td id=\"T_36e0c8e6_9bc9_11eb_8833_d0817ac67bd2row1_col0\" class=\"data row1 col0\" >4</td>\n",
       "                        <td id=\"T_36e0c8e6_9bc9_11eb_8833_d0817ac67bd2row1_col1\" class=\"data row1 col1\" >$3.86</td>\n",
       "                        <td id=\"T_36e0c8e6_9bc9_11eb_8833_d0817ac67bd2row1_col2\" class=\"data row1 col2\" >$15.45</td>\n",
       "            </tr>\n",
       "            <tr>\n",
       "                        <th id=\"T_36e0c8e6_9bc9_11eb_8833_d0817ac67bd2level0_row2\" class=\"row_heading level0 row2\" >Chamjask73</th>\n",
       "                        <td id=\"T_36e0c8e6_9bc9_11eb_8833_d0817ac67bd2row2_col0\" class=\"data row2 col0\" >3</td>\n",
       "                        <td id=\"T_36e0c8e6_9bc9_11eb_8833_d0817ac67bd2row2_col1\" class=\"data row2 col1\" >$4.61</td>\n",
       "                        <td id=\"T_36e0c8e6_9bc9_11eb_8833_d0817ac67bd2row2_col2\" class=\"data row2 col2\" >$13.83</td>\n",
       "            </tr>\n",
       "            <tr>\n",
       "                        <th id=\"T_36e0c8e6_9bc9_11eb_8833_d0817ac67bd2level0_row3\" class=\"row_heading level0 row3\" >Iral74</th>\n",
       "                        <td id=\"T_36e0c8e6_9bc9_11eb_8833_d0817ac67bd2row3_col0\" class=\"data row3 col0\" >4</td>\n",
       "                        <td id=\"T_36e0c8e6_9bc9_11eb_8833_d0817ac67bd2row3_col1\" class=\"data row3 col1\" >$3.40</td>\n",
       "                        <td id=\"T_36e0c8e6_9bc9_11eb_8833_d0817ac67bd2row3_col2\" class=\"data row3 col2\" >$13.62</td>\n",
       "            </tr>\n",
       "            <tr>\n",
       "                        <th id=\"T_36e0c8e6_9bc9_11eb_8833_d0817ac67bd2level0_row4\" class=\"row_heading level0 row4\" >Iskadarya95</th>\n",
       "                        <td id=\"T_36e0c8e6_9bc9_11eb_8833_d0817ac67bd2row4_col0\" class=\"data row4 col0\" >3</td>\n",
       "                        <td id=\"T_36e0c8e6_9bc9_11eb_8833_d0817ac67bd2row4_col1\" class=\"data row4 col1\" >$4.37</td>\n",
       "                        <td id=\"T_36e0c8e6_9bc9_11eb_8833_d0817ac67bd2row4_col2\" class=\"data row4 col2\" >$13.10</td>\n",
       "            </tr>\n",
       "    </tbody></table>"
      ],
      "text/plain": [
       "<pandas.io.formats.style.Styler at 0x7feb55f865e0>"
      ]
     },
     "execution_count": 78,
     "metadata": {},
     "output_type": "execute_result"
    }
   ],
   "source": [
    "#group by SN\n",
    "spenders_df = purchase_data_df.groupby(\"SN\")\n",
    "\n",
    "#purchase count\n",
    "spender_count = spenders_df[\"Purchase ID\"].count()\n",
    "\n",
    "#average purchase price\n",
    "spender_average = spenders_df[\"Price\"].mean()\n",
    "\n",
    "#total purchase value\n",
    "spender_total = spenders_df[\"Price\"].sum()\n",
    "\n",
    "#summary table\n",
    "spendersummary_df = pd.DataFrame({\"Purchase Count\": spender_count,\n",
    "                                    \"Average Purchase Price\": spender_average,\n",
    "                                    \"Total Purchase Value\": spender_total\n",
    "                                    })\n",
    "\n",
    "#sorting descending by total purchase value\n",
    "topspender_df = spendersummary_df.sort_values(\"Total Purchase Value\", ascending=False)\n",
    "\n",
    "#formatting & preview\n",
    "format_summary = {'Average Purchase Price':'${0:,.2f}',\n",
    "                  'Total Purchase Value':'${0:,.2f}'\n",
    "                 }\n",
    "topspender_df.head(5).style.format(format_summary)"
   ]
  },
  {
   "cell_type": "markdown",
   "metadata": {},
   "source": [
    "## Most Popular Items"
   ]
  },
  {
   "cell_type": "markdown",
   "metadata": {},
   "source": [
    "* Retrieve the Item ID, Item Name, and Item Price columns\n",
    "\n",
    "\n",
    "* Group by Item ID and Item Name. Perform calculations to obtain purchase count, average item price, and total purchase value\n",
    "\n",
    "\n",
    "* Create a summary data frame to hold the results\n",
    "\n",
    "\n",
    "* Sort the purchase count column in descending order\n",
    "\n",
    "\n",
    "* Optional: give the displayed data cleaner formatting\n",
    "\n",
    "\n",
    "* Display a preview of the summary data frame\n",
    "\n"
   ]
  },
  {
   "cell_type": "code",
   "execution_count": 99,
   "metadata": {},
   "outputs": [
    {
     "data": {
      "text/html": [
       "<style  type=\"text/css\" >\n",
       "</style><table id=\"T_961006aa_9bca_11eb_8833_d0817ac67bd2\" ><thead>    <tr>        <th class=\"blank\" ></th>        <th class=\"blank level0\" ></th>        <th class=\"col_heading level0 col0\" >Purchase Count</th>        <th class=\"col_heading level0 col1\" >Item Price</th>        <th class=\"col_heading level0 col2\" >Total Purchase Value</th>    </tr>    <tr>        <th class=\"index_name level0\" >Item ID</th>        <th class=\"index_name level1\" >Item Name</th>        <th class=\"blank\" ></th>        <th class=\"blank\" ></th>        <th class=\"blank\" ></th>    </tr></thead><tbody>\n",
       "                <tr>\n",
       "                        <th id=\"T_961006aa_9bca_11eb_8833_d0817ac67bd2level0_row0\" class=\"row_heading level0 row0\" >92</th>\n",
       "                        <th id=\"T_961006aa_9bca_11eb_8833_d0817ac67bd2level1_row0\" class=\"row_heading level1 row0\" >Final Critic</th>\n",
       "                        <td id=\"T_961006aa_9bca_11eb_8833_d0817ac67bd2row0_col0\" class=\"data row0 col0\" >13</td>\n",
       "                        <td id=\"T_961006aa_9bca_11eb_8833_d0817ac67bd2row0_col1\" class=\"data row0 col1\" >$4.61</td>\n",
       "                        <td id=\"T_961006aa_9bca_11eb_8833_d0817ac67bd2row0_col2\" class=\"data row0 col2\" >$59.99</td>\n",
       "            </tr>\n",
       "            <tr>\n",
       "                        <th id=\"T_961006aa_9bca_11eb_8833_d0817ac67bd2level0_row1\" class=\"row_heading level0 row1\" >178</th>\n",
       "                        <th id=\"T_961006aa_9bca_11eb_8833_d0817ac67bd2level1_row1\" class=\"row_heading level1 row1\" >Oathbreaker, Last Hope of the Breaking Storm</th>\n",
       "                        <td id=\"T_961006aa_9bca_11eb_8833_d0817ac67bd2row1_col0\" class=\"data row1 col0\" >12</td>\n",
       "                        <td id=\"T_961006aa_9bca_11eb_8833_d0817ac67bd2row1_col1\" class=\"data row1 col1\" >$4.23</td>\n",
       "                        <td id=\"T_961006aa_9bca_11eb_8833_d0817ac67bd2row1_col2\" class=\"data row1 col2\" >$50.76</td>\n",
       "            </tr>\n",
       "            <tr>\n",
       "                        <th id=\"T_961006aa_9bca_11eb_8833_d0817ac67bd2level0_row2\" class=\"row_heading level0 row2\" >145</th>\n",
       "                        <th id=\"T_961006aa_9bca_11eb_8833_d0817ac67bd2level1_row2\" class=\"row_heading level1 row2\" >Fiery Glass Crusader</th>\n",
       "                        <td id=\"T_961006aa_9bca_11eb_8833_d0817ac67bd2row2_col0\" class=\"data row2 col0\" >9</td>\n",
       "                        <td id=\"T_961006aa_9bca_11eb_8833_d0817ac67bd2row2_col1\" class=\"data row2 col1\" >$4.58</td>\n",
       "                        <td id=\"T_961006aa_9bca_11eb_8833_d0817ac67bd2row2_col2\" class=\"data row2 col2\" >$41.22</td>\n",
       "            </tr>\n",
       "            <tr>\n",
       "                        <th id=\"T_961006aa_9bca_11eb_8833_d0817ac67bd2level0_row3\" class=\"row_heading level0 row3\" >132</th>\n",
       "                        <th id=\"T_961006aa_9bca_11eb_8833_d0817ac67bd2level1_row3\" class=\"row_heading level1 row3\" >Persuasion</th>\n",
       "                        <td id=\"T_961006aa_9bca_11eb_8833_d0817ac67bd2row3_col0\" class=\"data row3 col0\" >9</td>\n",
       "                        <td id=\"T_961006aa_9bca_11eb_8833_d0817ac67bd2row3_col1\" class=\"data row3 col1\" >$3.22</td>\n",
       "                        <td id=\"T_961006aa_9bca_11eb_8833_d0817ac67bd2row3_col2\" class=\"data row3 col2\" >$28.99</td>\n",
       "            </tr>\n",
       "            <tr>\n",
       "                        <th id=\"T_961006aa_9bca_11eb_8833_d0817ac67bd2level0_row4\" class=\"row_heading level0 row4\" >108</th>\n",
       "                        <th id=\"T_961006aa_9bca_11eb_8833_d0817ac67bd2level1_row4\" class=\"row_heading level1 row4\" >Extraction, Quickblade Of Trembling Hands</th>\n",
       "                        <td id=\"T_961006aa_9bca_11eb_8833_d0817ac67bd2row4_col0\" class=\"data row4 col0\" >9</td>\n",
       "                        <td id=\"T_961006aa_9bca_11eb_8833_d0817ac67bd2row4_col1\" class=\"data row4 col1\" >$3.53</td>\n",
       "                        <td id=\"T_961006aa_9bca_11eb_8833_d0817ac67bd2row4_col2\" class=\"data row4 col2\" >$31.77</td>\n",
       "            </tr>\n",
       "    </tbody></table>"
      ],
      "text/plain": [
       "<pandas.io.formats.style.Styler at 0x7feb56393fa0>"
      ]
     },
     "execution_count": 99,
     "metadata": {},
     "output_type": "execute_result"
    }
   ],
   "source": [
    "#groupby item id and item name\n",
    "popular_df = purchase_data_df.groupby([\"Item ID\", \"Item Name\"])\n",
    "\n",
    "#purchase count\n",
    "popular_count = popular_df[\"Purchase ID\"].count()\n",
    "\n",
    "#total purchase value\n",
    "popular_total = popular_df[\"Price\"].sum()\n",
    "\n",
    "#item price\n",
    "popular_price = popular_total/popular_count\n",
    "\n",
    "#summary table\n",
    "popularsummary_df = pd.DataFrame({\"Purchase Count\": popular_count,\n",
    "                                  \"Item Price\": popular_price,\n",
    "                                  \"Total Purchase Value\": popular_total\n",
    "                                 })\n",
    "\n",
    "#sort descending by purchase count\n",
    "popularsort_df = popularsummary_df.sort_values(\"Purchase Count\", ascending=False)\n",
    "\n",
    "#formatting & preview 5 rows\n",
    "format_summary = {'Item Price':'${0:,.2f}',\n",
    "                  'Total Purchase Value':'${0:,.2f}'\n",
    "                 }\n",
    "popularsort_df.head(5).style.format(format_summary)"
   ]
  },
  {
   "cell_type": "markdown",
   "metadata": {},
   "source": [
    "## Most Profitable Items"
   ]
  },
  {
   "cell_type": "markdown",
   "metadata": {},
   "source": [
    "* Sort the above table by total purchase value in descending order\n",
    "\n",
    "\n",
    "* Optional: give the displayed data cleaner formatting\n",
    "\n",
    "\n",
    "* Display a preview of the data frame\n",
    "\n"
   ]
  },
  {
   "cell_type": "code",
   "execution_count": 100,
   "metadata": {
    "scrolled": true
   },
   "outputs": [
    {
     "data": {
      "text/html": [
       "<style  type=\"text/css\" >\n",
       "</style><table id=\"T_d229c234_9bca_11eb_8833_d0817ac67bd2\" ><thead>    <tr>        <th class=\"blank\" ></th>        <th class=\"blank level0\" ></th>        <th class=\"col_heading level0 col0\" >Purchase Count</th>        <th class=\"col_heading level0 col1\" >Item Price</th>        <th class=\"col_heading level0 col2\" >Total Purchase Value</th>    </tr>    <tr>        <th class=\"index_name level0\" >Item ID</th>        <th class=\"index_name level1\" >Item Name</th>        <th class=\"blank\" ></th>        <th class=\"blank\" ></th>        <th class=\"blank\" ></th>    </tr></thead><tbody>\n",
       "                <tr>\n",
       "                        <th id=\"T_d229c234_9bca_11eb_8833_d0817ac67bd2level0_row0\" class=\"row_heading level0 row0\" >92</th>\n",
       "                        <th id=\"T_d229c234_9bca_11eb_8833_d0817ac67bd2level1_row0\" class=\"row_heading level1 row0\" >Final Critic</th>\n",
       "                        <td id=\"T_d229c234_9bca_11eb_8833_d0817ac67bd2row0_col0\" class=\"data row0 col0\" >13</td>\n",
       "                        <td id=\"T_d229c234_9bca_11eb_8833_d0817ac67bd2row0_col1\" class=\"data row0 col1\" >$4.61</td>\n",
       "                        <td id=\"T_d229c234_9bca_11eb_8833_d0817ac67bd2row0_col2\" class=\"data row0 col2\" >$59.99</td>\n",
       "            </tr>\n",
       "            <tr>\n",
       "                        <th id=\"T_d229c234_9bca_11eb_8833_d0817ac67bd2level0_row1\" class=\"row_heading level0 row1\" >178</th>\n",
       "                        <th id=\"T_d229c234_9bca_11eb_8833_d0817ac67bd2level1_row1\" class=\"row_heading level1 row1\" >Oathbreaker, Last Hope of the Breaking Storm</th>\n",
       "                        <td id=\"T_d229c234_9bca_11eb_8833_d0817ac67bd2row1_col0\" class=\"data row1 col0\" >12</td>\n",
       "                        <td id=\"T_d229c234_9bca_11eb_8833_d0817ac67bd2row1_col1\" class=\"data row1 col1\" >$4.23</td>\n",
       "                        <td id=\"T_d229c234_9bca_11eb_8833_d0817ac67bd2row1_col2\" class=\"data row1 col2\" >$50.76</td>\n",
       "            </tr>\n",
       "            <tr>\n",
       "                        <th id=\"T_d229c234_9bca_11eb_8833_d0817ac67bd2level0_row2\" class=\"row_heading level0 row2\" >82</th>\n",
       "                        <th id=\"T_d229c234_9bca_11eb_8833_d0817ac67bd2level1_row2\" class=\"row_heading level1 row2\" >Nirvana</th>\n",
       "                        <td id=\"T_d229c234_9bca_11eb_8833_d0817ac67bd2row2_col0\" class=\"data row2 col0\" >9</td>\n",
       "                        <td id=\"T_d229c234_9bca_11eb_8833_d0817ac67bd2row2_col1\" class=\"data row2 col1\" >$4.90</td>\n",
       "                        <td id=\"T_d229c234_9bca_11eb_8833_d0817ac67bd2row2_col2\" class=\"data row2 col2\" >$44.10</td>\n",
       "            </tr>\n",
       "            <tr>\n",
       "                        <th id=\"T_d229c234_9bca_11eb_8833_d0817ac67bd2level0_row3\" class=\"row_heading level0 row3\" >145</th>\n",
       "                        <th id=\"T_d229c234_9bca_11eb_8833_d0817ac67bd2level1_row3\" class=\"row_heading level1 row3\" >Fiery Glass Crusader</th>\n",
       "                        <td id=\"T_d229c234_9bca_11eb_8833_d0817ac67bd2row3_col0\" class=\"data row3 col0\" >9</td>\n",
       "                        <td id=\"T_d229c234_9bca_11eb_8833_d0817ac67bd2row3_col1\" class=\"data row3 col1\" >$4.58</td>\n",
       "                        <td id=\"T_d229c234_9bca_11eb_8833_d0817ac67bd2row3_col2\" class=\"data row3 col2\" >$41.22</td>\n",
       "            </tr>\n",
       "            <tr>\n",
       "                        <th id=\"T_d229c234_9bca_11eb_8833_d0817ac67bd2level0_row4\" class=\"row_heading level0 row4\" >103</th>\n",
       "                        <th id=\"T_d229c234_9bca_11eb_8833_d0817ac67bd2level1_row4\" class=\"row_heading level1 row4\" >Singed Scalpel</th>\n",
       "                        <td id=\"T_d229c234_9bca_11eb_8833_d0817ac67bd2row4_col0\" class=\"data row4 col0\" >8</td>\n",
       "                        <td id=\"T_d229c234_9bca_11eb_8833_d0817ac67bd2row4_col1\" class=\"data row4 col1\" >$4.35</td>\n",
       "                        <td id=\"T_d229c234_9bca_11eb_8833_d0817ac67bd2row4_col2\" class=\"data row4 col2\" >$34.80</td>\n",
       "            </tr>\n",
       "    </tbody></table>"
      ],
      "text/plain": [
       "<pandas.io.formats.style.Styler at 0x7feb5645a640>"
      ]
     },
     "execution_count": 100,
     "metadata": {},
     "output_type": "execute_result"
    }
   ],
   "source": [
    "#groupby item id and item name\n",
    "popular_df = purchase_data_df.groupby([\"Item ID\", \"Item Name\"])\n",
    "\n",
    "#purchase count\n",
    "popular_count = popular_df[\"Purchase ID\"].count()\n",
    "\n",
    "#total purchase value\n",
    "popular_total = popular_df[\"Price\"].sum()\n",
    "\n",
    "#item price\n",
    "popular_price = popular_total/popular_count\n",
    "\n",
    "#summary table\n",
    "popularsummary_df = pd.DataFrame({\"Purchase Count\": popular_count,\n",
    "                                  \"Item Price\": popular_price,\n",
    "                                  \"Total Purchase Value\": popular_total\n",
    "                                 })\n",
    "\n",
    "#sort descending by purchase count\n",
    "popularsort_df = popularsummary_df.sort_values(\"Total Purchase Value\", ascending=False)\n",
    "\n",
    "#formatting & preview 5 rows\n",
    "format_summary = {'Item Price':'${0:,.2f}',\n",
    "                  'Total Purchase Value':'${0:,.2f}'\n",
    "                 }\n",
    "popularsort_df.head(5).style.format(format_summary)"
   ]
  },
  {
   "cell_type": "code",
   "execution_count": null,
   "metadata": {},
   "outputs": [],
   "source": []
  }
 ],
 "metadata": {
  "anaconda-cloud": {},
  "kernel_info": {
   "name": "python3"
  },
  "kernelspec": {
   "display_name": "Python 3",
   "language": "python",
   "name": "python3"
  },
  "language_info": {
   "codemirror_mode": {
    "name": "ipython",
    "version": 3
   },
   "file_extension": ".py",
   "mimetype": "text/x-python",
   "name": "python",
   "nbconvert_exporter": "python",
   "pygments_lexer": "ipython3",
   "version": "3.8.5"
  },
  "latex_envs": {
   "LaTeX_envs_menu_present": true,
   "autoclose": false,
   "autocomplete": true,
   "bibliofile": "biblio.bib",
   "cite_by": "apalike",
   "current_citInitial": 1,
   "eqLabelWithNumbers": true,
   "eqNumInitial": 1,
   "hotkeys": {
    "equation": "Ctrl-E",
    "itemize": "Ctrl-I"
   },
   "labels_anchors": false,
   "latex_user_defs": false,
   "report_style_numbering": false,
   "user_envs_cfg": false
  },
  "nteract": {
   "version": "0.2.0"
  }
 },
 "nbformat": 4,
 "nbformat_minor": 2
}
